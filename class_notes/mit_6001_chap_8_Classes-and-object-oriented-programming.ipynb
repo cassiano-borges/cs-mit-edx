{
 "cells": [
  {
   "cell_type": "markdown",
   "metadata": {},
   "source": [
    "# Chapter 8\n",
    "***\n",
    "\n",
    "## Classes and Object-Oriented Programming"
   ]
  },
  {
   "cell_type": "markdown",
   "metadata": {},
   "source": [
    "- thinking about objects as collections of both data and methods that operate on that data\n",
    "\n",
    "`Abstract Data Type` is a set of objects and the operations on those objects\n",
    "    - like lists and dictionaries\n",
    "- specifications of the operations define an **interface** between the abstract data type and the rest of the program\n",
    "\n",
    "### Classes\n",
    "- implement data abstractions\n",
    "- creates an object of type `type`"
   ]
  },
  {
   "cell_type": "markdown",
   "metadata": {},
   "source": [
    "#### Special methods\n",
    "\n",
    "`__init__` when a class is instantiated, a call is made to \\_\\_init__\n",
    "\n",
    "`__str__`(self) $\\to$ print(self)\n",
    "- defines  how it will be printed\n",
    "\n",
    "`__hash__` defines the hash value of the object\n",
    "- if not provided is derived from the function id\n",
    "- associated with the possibility to use as dictionary key\n",
    "\n",
    "`__add__`(self, other) $\\to$ self + other\n",
    "\n",
    "`__sub__`(self, other) $\\to$ self - other\n",
    "\n",
    "`__eq__`(self, other) $\\to$ if self == other\n",
    "- if not provided, all objects are considered unequal\n",
    "\n",
    "`__lt__`(self, other) $\\to$ self < other\n",
    "- when is using boolean operators\n",
    "- what it is called when used method .sort() on a list of that type\n",
    "\n",
    "`__len__`(self) $\\to$ len(self)\n",
    "\n",
    "`__float__`(self) $\\to$ float(self)\n",
    "\n",
    "\n",
    "`isinstance(self, type)` returns True if self is an instance of type"
   ]
  },
  {
   "cell_type": "code",
   "execution_count": 2,
   "metadata": {},
   "outputs": [],
   "source": [
    "# class definition\n",
    "class IntSet(object):\n",
    "    \"\"\"An intSet is a set of integers\"\"\" ## representation invariant\n",
    "    # Information about the implementation (not the abstraction)\n",
    "    # Value of the set is represented by a list of ints, self.vals.\n",
    "    # Each int in the set occurs in self.vals exactly once.\n",
    "    \n",
    "    # initiate the class\n",
    "    def __init__(self):\n",
    "        \"\"\"Create an empty set of integers\"\"\"\n",
    "        self.vals = []     # data attribute of the instance of IntSet\n",
    "    \n",
    "    # insert is a instance method\n",
    "    def insert(self, e):   # defining a method attribute of the class\n",
    "        \"\"\"Assumes e is an integer and inserts e into self\"\"\"\n",
    "        if e not in self.vals:    # maintains the representation invariant\n",
    "            self.vals.append(e)\n",
    "    \n",
    "    def member(self, e):\n",
    "        \"\"\"Assumes e is an integer\n",
    "           Returns True if e is in self, and False otherwise\"\"\"\n",
    "        return e in self.vals\n",
    "    \n",
    "    def remove(self, e):\n",
    "        \"\"\"Assumes e is integer and removes e from self\n",
    "           Raises ValueError if e is not in self\"\"\"\n",
    "        try:\n",
    "            self.vals.remove(e)     # assumes the representation invariant, only has 1 e\n",
    "        except:\n",
    "            raise ValueError(str(e) + ' not found')\n",
    "    \n",
    "    def getMembers(self):\n",
    "        \"\"\"Returns a list containing the elements of self.\n",
    "           Nothing can be assumed about the order of the elements\"\"\"\n",
    "        return self.vals[:]\n",
    "    \n",
    "    def __str__(self):    # how it will be printed\n",
    "        \"\"\"Returns a string representation of self\"\"\"\n",
    "        self.vals.sort()\n",
    "        result = ''\n",
    "        for e in self.vals:\n",
    "            result = result + str(e) + ','\n",
    "        return '{' + result[:-1] + '}' # -1 omits trailing comma"
   ]
  },
  {
   "cell_type": "markdown",
   "metadata": {},
   "source": [
    "#### Observation:\n",
    "`Each int in the set occurs in self.vals exactly once`\n",
    "- this information shows the __representation invariant__\n",
    "    "
   ]
  },
  {
   "cell_type": "code",
   "execution_count": 3,
   "metadata": {},
   "outputs": [
    {
     "name": "stdout",
     "output_type": "stream",
     "text": [
      "<class 'type'> <class 'function'>\n"
     ]
    }
   ],
   "source": [
    "print(type(IntSet), type(IntSet.insert))"
   ]
  },
  {
   "cell_type": "code",
   "execution_count": 4,
   "metadata": {},
   "outputs": [
    {
     "data": {
      "text/plain": [
       "<bound method IntSet.member of <__main__.IntSet object at 0x0000018F312CF2B0>>"
      ]
     },
     "execution_count": 4,
     "metadata": {},
     "output_type": "execute_result"
    }
   ],
   "source": [
    "# Instantiation\n",
    "s = IntSet()\n",
    "# s is an instance of IntSet\n",
    "\n",
    "# Attribute reference\n",
    "s.member"
   ]
  },
  {
   "cell_type": "code",
   "execution_count": 5,
   "metadata": {},
   "outputs": [
    {
     "data": {
      "text/plain": [
       "<function __main__.IntSet.__init__(self)>"
      ]
     },
     "execution_count": 5,
     "metadata": {},
     "output_type": "execute_result"
    }
   ],
   "source": [
    "IntSet.__init__"
   ]
  },
  {
   "cell_type": "code",
   "execution_count": 6,
   "metadata": {},
   "outputs": [
    {
     "name": "stdout",
     "output_type": "stream",
     "text": [
      "True\n"
     ]
    },
    {
     "data": {
      "text/plain": [
       "[3]"
      ]
     },
     "execution_count": 6,
     "metadata": {},
     "output_type": "execute_result"
    }
   ],
   "source": [
    "s = IntSet()\n",
    "s.insert(3)\n",
    "print(s.member(3))\n",
    "s.vals"
   ]
  },
  {
   "cell_type": "code",
   "execution_count": 7,
   "metadata": {},
   "outputs": [
    {
     "data": {
      "text/plain": [
       "[3]"
      ]
     },
     "execution_count": 7,
     "metadata": {},
     "output_type": "execute_result"
    }
   ],
   "source": [
    "# instance variable\n",
    "s.vals"
   ]
  },
  {
   "cell_type": "code",
   "execution_count": 8,
   "metadata": {},
   "outputs": [
    {
     "name": "stdout",
     "output_type": "stream",
     "text": [
      "{3,4}\n"
     ]
    }
   ],
   "source": [
    "s = IntSet()\n",
    "s.insert(3)\n",
    "s.insert(4)\n",
    "s.insert(3) # representation invariant\n",
    "print(s)"
   ]
  },
  {
   "cell_type": "code",
   "execution_count": 9,
   "metadata": {},
   "outputs": [
    {
     "data": {
      "text/plain": [
       "'{3,4}'"
      ]
     },
     "execution_count": 9,
     "metadata": {},
     "output_type": "execute_result"
    }
   ],
   "source": [
    "str(s)"
   ]
  },
  {
   "cell_type": "markdown",
   "metadata": {},
   "source": [
    "### Example\n",
    "Help to keep track of all the students and faculty at an university."
   ]
  },
  {
   "cell_type": "code",
   "execution_count": 10,
   "metadata": {},
   "outputs": [],
   "source": [
    "import datetime\n",
    "\n",
    "class Person(object):\n",
    "    \n",
    "    def __init__(self, name):\n",
    "        \"\"\"Create a person\"\"\"\n",
    "        self.name = name\n",
    "        try:\n",
    "            lastBlank = name.rindex(' ')\n",
    "            self.lastName = name[lastBlank+1:]\n",
    "        except:\n",
    "            self.lastName = name\n",
    "        self.birthday = None\n",
    "    \n",
    "    def getName(self):\n",
    "        \"\"\"Returns self's full name\"\"\"\n",
    "        return self.name\n",
    "    \n",
    "    def getLastName(self):\n",
    "        \"\"\"Returns self's last name\"\"\"\n",
    "        return self.lastName\n",
    "    \n",
    "    def setBirthday(self, birthdate):\n",
    "        \"\"\"Assumes birthdate is of type datetime.date\n",
    "           Sets self's birthday to birthdate\"\"\"\n",
    "        self.birthday = birthdate\n",
    "    \n",
    "    def getAge(self):\n",
    "        \"\"\"Returns self's current age in days\"\"\"\n",
    "        if self.birthday == None:\n",
    "            raise ValueError\n",
    "        return (datetime.date.today() - self.birthday).days\n",
    "    \n",
    "    def __lt__(self, other):    # is called whenever the first argument of < operator is type Person\n",
    "        \"\"\"Returns True if self precedes other in alphabetical\n",
    "           order, and False otherwise. Comparison is based on last\n",
    "           names, but if these are the same full names are compared.\"\"\"\n",
    "        if self.lastName == other.lastName:\n",
    "            return self.name < other.name    # self.name.__lt__(other.name)\n",
    "        return self.lastName < other.lastName\n",
    "    \n",
    "    def __str__(self):\n",
    "        \"\"\"Returns self's name\"\"\"\n",
    "        return self.name"
   ]
  },
  {
   "cell_type": "code",
   "execution_count": 11,
   "metadata": {},
   "outputs": [
    {
     "name": "stdout",
     "output_type": "stream",
     "text": [
      "Obama\n",
      "Barack Hussein Obama is 21167 days old\n"
     ]
    }
   ],
   "source": [
    "# creating instances of class Person\n",
    "me = Person('Michael Guttag')\n",
    "him = Person('Barack Hussein Obama')\n",
    "her = Person('Madonna')\n",
    "\n",
    "# using methods\n",
    "print(him.getLastName())\n",
    "him.setBirthday(datetime.date(1961, 8, 4))\n",
    "her.setBirthday(datetime.date(1958, 8, 16))\n",
    "print(him.getName(), 'is', him.getAge(), 'days old')"
   ]
  },
  {
   "cell_type": "code",
   "execution_count": 12,
   "metadata": {},
   "outputs": [
    {
     "name": "stdout",
     "output_type": "stream",
     "text": [
      "Michael Guttag\n",
      "Barack Hussein Obama\n",
      "Madonna\n",
      "---------\n",
      "After sort\n",
      "---------\n",
      "Michael Guttag\n",
      "Madonna\n",
      "Barack Hussein Obama\n"
     ]
    }
   ],
   "source": [
    "# call to the __lt__ method using .sort()\n",
    "pList = [me, him, her]\n",
    "for p in pList:\n",
    "    print(p)\n",
    "print('---------\\nAfter sort\\n---------')\n",
    "pList.sort()\n",
    "for p in pList:\n",
    "    print(p)"
   ]
  },
  {
   "cell_type": "markdown",
   "metadata": {},
   "source": [
    "### Inheritance"
   ]
  },
  {
   "cell_type": "code",
   "execution_count": 13,
   "metadata": {},
   "outputs": [],
   "source": [
    "class MITPerson(Person):  # inherits all attributes from Person, including all of objects\n",
    "                          # MITPerson is a subclass and inherits Person as its Superclass\n",
    "    \n",
    "    nextIdNum = 0 # identification number -> class variable\n",
    "    \n",
    "    def __init__(self, name): # override Person.__init__\n",
    "        Person.__init__(self, name)\n",
    "        self.idNum = MITPerson.nextIdNum  # -> instance variable\n",
    "        MITPerson.nextIdNum += 1\n",
    "        \n",
    "    def getIdNum(self): # method\n",
    "        return self.idNum\n",
    "    \n",
    "    def __lt__(self, other):\n",
    "        return self.idNum < other.idNum\n",
    "    \n",
    "    def isStudent(self):\n",
    "        return isinstance(self, Student) # minimize the amount of code that might need to be changed when that is done"
   ]
  },
  {
   "cell_type": "code",
   "execution_count": 14,
   "metadata": {},
   "outputs": [
    {
     "name": "stdout",
     "output_type": "stream",
     "text": [
      "Barbara Beaver's id number is 0\n"
     ]
    }
   ],
   "source": [
    "p1 = MITPerson('Barbara Beaver')\n",
    "print(str(p1) + '\\'s id number is ' + str(p1.getIdNum()))"
   ]
  },
  {
   "cell_type": "code",
   "execution_count": 15,
   "metadata": {},
   "outputs": [],
   "source": [
    "p1 = MITPerson('Mark Guttag')\n",
    "p2 = MITPerson('Billy Bob Beaver')\n",
    "p3 = MITPerson('Billy Bob Beaver')\n",
    "p4 = Person('Billy Bob Beaver')"
   ]
  },
  {
   "cell_type": "code",
   "execution_count": 16,
   "metadata": {},
   "outputs": [
    {
     "name": "stdout",
     "output_type": "stream",
     "text": [
      "p1 < p2 = True\n",
      "p3 < p2 = False\n",
      "p4 < p1 = True\n"
     ]
    }
   ],
   "source": [
    "print('p1 < p2 =', p1 < p2) # MITPerson __lt__ (id)\n",
    "print('p3 < p2 =', p3 < p2) # MITPerson __lt__ (id)\n",
    "print('p4 < p1 =', p4 < p1) # Person __lt__"
   ]
  },
  {
   "cell_type": "code",
   "execution_count": 17,
   "metadata": {},
   "outputs": [
    {
     "ename": "AttributeError",
     "evalue": "'Person' object has no attribute 'idNum'",
     "output_type": "error",
     "traceback": [
      "\u001b[1;31m---------------------------------------------------------------------------\u001b[0m",
      "\u001b[1;31mAttributeError\u001b[0m                            Traceback (most recent call last)",
      "\u001b[1;32m<ipython-input-17-e4f62861791b>\u001b[0m in \u001b[0;36m<module>\u001b[1;34m\u001b[0m\n\u001b[1;32m----> 1\u001b[1;33m \u001b[0mprint\u001b[0m\u001b[1;33m(\u001b[0m\u001b[1;34m'p1 < p4 ='\u001b[0m\u001b[1;33m,\u001b[0m \u001b[0mp1\u001b[0m \u001b[1;33m<\u001b[0m \u001b[0mp4\u001b[0m\u001b[1;33m)\u001b[0m\u001b[1;33m\u001b[0m\u001b[1;33m\u001b[0m\u001b[0m\n\u001b[0m",
      "\u001b[1;32m<ipython-input-13-42de450b22fc>\u001b[0m in \u001b[0;36m__lt__\u001b[1;34m(self, other)\u001b[0m\n\u001b[0;32m     13\u001b[0m \u001b[1;33m\u001b[0m\u001b[0m\n\u001b[0;32m     14\u001b[0m     \u001b[1;32mdef\u001b[0m \u001b[0m__lt__\u001b[0m\u001b[1;33m(\u001b[0m\u001b[0mself\u001b[0m\u001b[1;33m,\u001b[0m \u001b[0mother\u001b[0m\u001b[1;33m)\u001b[0m\u001b[1;33m:\u001b[0m\u001b[1;33m\u001b[0m\u001b[1;33m\u001b[0m\u001b[0m\n\u001b[1;32m---> 15\u001b[1;33m         \u001b[1;32mreturn\u001b[0m \u001b[0mself\u001b[0m\u001b[1;33m.\u001b[0m\u001b[0midNum\u001b[0m \u001b[1;33m<\u001b[0m \u001b[0mother\u001b[0m\u001b[1;33m.\u001b[0m\u001b[0midNum\u001b[0m\u001b[1;33m\u001b[0m\u001b[1;33m\u001b[0m\u001b[0m\n\u001b[0m\u001b[0;32m     16\u001b[0m \u001b[1;33m\u001b[0m\u001b[0m\n\u001b[0;32m     17\u001b[0m     \u001b[1;32mdef\u001b[0m \u001b[0misStudent\u001b[0m\u001b[1;33m(\u001b[0m\u001b[0mself\u001b[0m\u001b[1;33m)\u001b[0m\u001b[1;33m:\u001b[0m\u001b[1;33m\u001b[0m\u001b[1;33m\u001b[0m\u001b[0m\n",
      "\u001b[1;31mAttributeError\u001b[0m: 'Person' object has no attribute 'idNum'"
     ]
    }
   ],
   "source": [
    "print('p1 < p4 =', p1 < p4)"
   ]
  },
  {
   "cell_type": "markdown",
   "metadata": {},
   "source": [
    "### Multiple levels of Inheritance"
   ]
  },
  {
   "cell_type": "code",
   "execution_count": 18,
   "metadata": {},
   "outputs": [],
   "source": [
    "class Student(MITPerson):\n",
    "    pass # no other attribute other than its superclasses\n",
    "\n",
    "\n",
    "class UG(Student):\n",
    "    \n",
    "    def __init__(self, name, classYear):\n",
    "        MITPerson.__init__(self, name)\n",
    "        self.year = classYear\n",
    "    def getClass(self):\n",
    "        return self.year\n",
    "\n",
    "    \n",
    "class Grad(Student):\n",
    "    pass # no other attribute other than its superclasses\n",
    "\n",
    "\n",
    "class TransferStudent(Student):\n",
    "    def __init__(self, name, fromSchool):\n",
    "        MITPerson.__init__(self, name)\n",
    "        self.fromSchool = fromSchool\n",
    "    def getOldSchool(self):\n",
    "        return self.fromSchool"
   ]
  },
  {
   "cell_type": "code",
   "execution_count": 19,
   "metadata": {},
   "outputs": [
    {
     "name": "stdout",
     "output_type": "stream",
     "text": [
      "Buzz Aldrin is a graduate student is True\n",
      "Billy Beaver is a undergraduate student is True\n"
     ]
    }
   ],
   "source": [
    "p5 = Grad('Buzz Aldrin')\n",
    "p6 = UG('Billy Beaver', 1984)\n",
    "print(p5, 'is a graduate student is', type(p5) == Grad)\n",
    "print(p6, 'is a undergraduate student is', type(p6) == UG)"
   ]
  },
  {
   "cell_type": "code",
   "execution_count": 20,
   "metadata": {},
   "outputs": [
    {
     "name": "stdout",
     "output_type": "stream",
     "text": [
      "Buzz Aldrin is a student is True\n",
      "Billy Beaver is a student is True\n",
      "Billy Bob Beaver is a student is False\n"
     ]
    }
   ],
   "source": [
    "print(p5, 'is a student is', p5.isStudent())\n",
    "print(p6, 'is a student is', p6.isStudent())\n",
    "print(p3, 'is a student is', p3.isStudent())"
   ]
  },
  {
   "cell_type": "code",
   "execution_count": 21,
   "metadata": {},
   "outputs": [],
   "source": [
    "class Coordinate(object):\n",
    "    \n",
    "    def __init__(self, x, y):\n",
    "        self.x = x\n",
    "        self.y = y\n",
    "\n",
    "    def distance(self, other):\n",
    "        x_diff_sq = (self.x - other.x) ** 2\n",
    "        y_diff_sq = (self.y - other.y) ** 2\n",
    "        return (x_diff_sq + y_diff_sq) ** 0.5\n",
    "    \n",
    "    def __str__(self):\n",
    "        return '<' + str(self.x) + ',' + str(self.y) + '>'\n",
    "    \n",
    "    def __sub__(self, other):\n",
    "        return Coordinate(self.x - other.x, self.y - other.y)"
   ]
  },
  {
   "cell_type": "code",
   "execution_count": 22,
   "metadata": {},
   "outputs": [
    {
     "name": "stdout",
     "output_type": "stream",
     "text": [
      "3\n",
      "0\n"
     ]
    }
   ],
   "source": [
    "c = Coordinate(3, 4)\n",
    "origin = Coordinate(0, 0)\n",
    "print(c.x) # get the value of c, whats is the biding for x in that frame\n",
    "print(origin.x)"
   ]
  },
  {
   "cell_type": "code",
   "execution_count": 23,
   "metadata": {},
   "outputs": [
    {
     "name": "stdout",
     "output_type": "stream",
     "text": [
      "5.0\n",
      "5.0\n"
     ]
    }
   ],
   "source": [
    "# object.method(parameter)\n",
    "# Coordinate.distance(c, origin)\n",
    "print(c.distance(origin))\n",
    "print(Coordinate.distance(c, origin))"
   ]
  },
  {
   "cell_type": "code",
   "execution_count": 24,
   "metadata": {},
   "outputs": [
    {
     "name": "stdout",
     "output_type": "stream",
     "text": [
      "<3,4>\n"
     ]
    }
   ],
   "source": [
    "# __str__\n",
    "print(c)"
   ]
  },
  {
   "cell_type": "code",
   "execution_count": 25,
   "metadata": {},
   "outputs": [
    {
     "name": "stdout",
     "output_type": "stream",
     "text": [
      "True\n"
     ]
    }
   ],
   "source": [
    "print(isinstance(c, Coordinate))"
   ]
  },
  {
   "cell_type": "code",
   "execution_count": 26,
   "metadata": {},
   "outputs": [
    {
     "name": "stdout",
     "output_type": "stream",
     "text": [
      "<3,4>\n"
     ]
    }
   ],
   "source": [
    "foo = c - origin\n",
    "print(foo)"
   ]
  },
  {
   "cell_type": "code",
   "execution_count": 27,
   "metadata": {},
   "outputs": [
    {
     "data": {
      "text/plain": [
       "<function len(obj, /)>"
      ]
     },
     "execution_count": 27,
     "metadata": {},
     "output_type": "execute_result"
    }
   ],
   "source": [
    "len"
   ]
  },
  {
   "cell_type": "code",
   "execution_count": 28,
   "metadata": {},
   "outputs": [
    {
     "name": "stdout",
     "output_type": "stream",
     "text": [
      "5.0\n"
     ]
    }
   ],
   "source": [
    "print(c.distance(origin))"
   ]
  },
  {
   "cell_type": "code",
   "execution_count": 29,
   "metadata": {},
   "outputs": [],
   "source": [
    "class fraction(object):\n",
    "    \n",
    "    def __init__(self, numer, denom):\n",
    "        self.numer = numer\n",
    "        self.denom = denom\n",
    "    \n",
    "    def __str__(self):\n",
    "        return str(self.numer) + ' / ' + str(self.denom)\n",
    "    \n",
    "    # getters\n",
    "    def getNumer(self):\n",
    "        return self.numer\n",
    "    def getDenom(self):\n",
    "        return self.denom\n",
    "    \n",
    "    # setters\n",
    "    def __add__(self, other):\n",
    "        numerNew = other.getDenom() * self.getNumer() \\\n",
    "                   + other.getNumer() * self.getDenom()\n",
    "        denomNew = other.getDenom() * self.getDenom()\n",
    "        return fraction(numerNew, denomNew)\n",
    "    \n",
    "    def __sub__(self, other):\n",
    "        numerNew = other.getDenom() * self.getNumer() \\\n",
    "                   - other.getNumer() * self.getDenom()\n",
    "        denomNew = other.getDenom() * self.getDenom()\n",
    "        return fraction(numerNew, denomNew)\n",
    "    \n",
    "    def convert(self):\n",
    "        return self.getNumer() / self.getDenom()"
   ]
  },
  {
   "cell_type": "code",
   "execution_count": 30,
   "metadata": {},
   "outputs": [
    {
     "name": "stdout",
     "output_type": "stream",
     "text": [
      "1 / 2\n",
      "2 / 3\n",
      "1 2\n",
      "7 / 6\n",
      "-1 / 6\n",
      "-1 / 12\n",
      "0.5\n"
     ]
    }
   ],
   "source": [
    "oneHalf = fraction(1,2)\n",
    "twoThirds = fraction(2,3)\n",
    "threeQuarters = fraction(3,4)\n",
    "\n",
    "print(oneHalf)\n",
    "print(twoThirds)\n",
    "print(oneHalf.getNumer(), oneHalf.getDenom())\n",
    "print(oneHalf + twoThirds)\n",
    "print(oneHalf - twoThirds)\n",
    "print(twoThirds - threeQuarters)\n",
    "print(oneHalf.convert())"
   ]
  },
  {
   "cell_type": "code",
   "execution_count": null,
   "metadata": {},
   "outputs": [],
   "source": []
  },
  {
   "cell_type": "code",
   "execution_count": null,
   "metadata": {},
   "outputs": [],
   "source": []
  },
  {
   "cell_type": "code",
   "execution_count": null,
   "metadata": {},
   "outputs": [],
   "source": []
  },
  {
   "cell_type": "markdown",
   "metadata": {},
   "source": [
    "#### exercise"
   ]
  },
  {
   "cell_type": "code",
   "execution_count": 31,
   "metadata": {},
   "outputs": [],
   "source": [
    "class Weird(object):\n",
    "    def __init__(self, x, y): \n",
    "        self.y = y\n",
    "        self.x = x\n",
    "    def getX(self):\n",
    "        return x \n",
    "    def getY(self):\n",
    "        return y\n",
    "\n",
    "class Wild(object):\n",
    "    def __init__(self, x, y): \n",
    "        self.y = y\n",
    "        self.x = x\n",
    "    def getX(self):\n",
    "        return self.x \n",
    "    def getY(self):\n",
    "        return self.y\n",
    "\n",
    "X = 7\n",
    "Y = 8"
   ]
  },
  {
   "cell_type": "code",
   "execution_count": 32,
   "metadata": {},
   "outputs": [
    {
     "ename": "NameError",
     "evalue": "name 'x' is not defined",
     "output_type": "error",
     "traceback": [
      "\u001b[1;31m---------------------------------------------------------------------------\u001b[0m",
      "\u001b[1;31mNameError\u001b[0m                                 Traceback (most recent call last)",
      "\u001b[1;32m<ipython-input-32-0b79e357a18a>\u001b[0m in \u001b[0;36m<module>\u001b[1;34m\u001b[0m\n\u001b[0;32m      1\u001b[0m \u001b[0mw1\u001b[0m \u001b[1;33m=\u001b[0m \u001b[0mWeird\u001b[0m\u001b[1;33m(\u001b[0m\u001b[0mX\u001b[0m\u001b[1;33m,\u001b[0m \u001b[0mY\u001b[0m\u001b[1;33m)\u001b[0m\u001b[1;33m\u001b[0m\u001b[1;33m\u001b[0m\u001b[0m\n\u001b[1;32m----> 2\u001b[1;33m \u001b[0mprint\u001b[0m\u001b[1;33m(\u001b[0m\u001b[0mw1\u001b[0m\u001b[1;33m.\u001b[0m\u001b[0mgetX\u001b[0m\u001b[1;33m(\u001b[0m\u001b[1;33m)\u001b[0m\u001b[1;33m)\u001b[0m\u001b[1;33m\u001b[0m\u001b[1;33m\u001b[0m\u001b[0m\n\u001b[0m\u001b[0;32m      3\u001b[0m \u001b[0mprint\u001b[0m\u001b[1;33m(\u001b[0m\u001b[0mw1\u001b[0m\u001b[1;33m.\u001b[0m\u001b[0mgetY\u001b[0m\u001b[1;33m(\u001b[0m\u001b[1;33m)\u001b[0m\u001b[1;33m)\u001b[0m\u001b[1;33m\u001b[0m\u001b[1;33m\u001b[0m\u001b[0m\n",
      "\u001b[1;32m<ipython-input-31-0af6d0868a38>\u001b[0m in \u001b[0;36mgetX\u001b[1;34m(self)\u001b[0m\n\u001b[0;32m      4\u001b[0m         \u001b[0mself\u001b[0m\u001b[1;33m.\u001b[0m\u001b[0mx\u001b[0m \u001b[1;33m=\u001b[0m \u001b[0mx\u001b[0m\u001b[1;33m\u001b[0m\u001b[1;33m\u001b[0m\u001b[0m\n\u001b[0;32m      5\u001b[0m     \u001b[1;32mdef\u001b[0m \u001b[0mgetX\u001b[0m\u001b[1;33m(\u001b[0m\u001b[0mself\u001b[0m\u001b[1;33m)\u001b[0m\u001b[1;33m:\u001b[0m\u001b[1;33m\u001b[0m\u001b[1;33m\u001b[0m\u001b[0m\n\u001b[1;32m----> 6\u001b[1;33m         \u001b[1;32mreturn\u001b[0m \u001b[0mx\u001b[0m\u001b[1;33m\u001b[0m\u001b[1;33m\u001b[0m\u001b[0m\n\u001b[0m\u001b[0;32m      7\u001b[0m     \u001b[1;32mdef\u001b[0m \u001b[0mgetY\u001b[0m\u001b[1;33m(\u001b[0m\u001b[0mself\u001b[0m\u001b[1;33m)\u001b[0m\u001b[1;33m:\u001b[0m\u001b[1;33m\u001b[0m\u001b[1;33m\u001b[0m\u001b[0m\n\u001b[0;32m      8\u001b[0m         \u001b[1;32mreturn\u001b[0m \u001b[0my\u001b[0m\u001b[1;33m\u001b[0m\u001b[1;33m\u001b[0m\u001b[0m\n",
      "\u001b[1;31mNameError\u001b[0m: name 'x' is not defined"
     ]
    }
   ],
   "source": [
    "w1 = Weird(X, Y)\n",
    "print(w1.getX())\n",
    "print(w1.getY())"
   ]
  },
  {
   "cell_type": "code",
   "execution_count": 33,
   "metadata": {},
   "outputs": [
    {
     "name": "stdout",
     "output_type": "stream",
     "text": [
      "7\n",
      "8\n"
     ]
    }
   ],
   "source": [
    "w2 = Wild(X, Y)\n",
    "print(w2.getX())\n",
    "print(w2.getY())"
   ]
  },
  {
   "cell_type": "code",
   "execution_count": 34,
   "metadata": {},
   "outputs": [
    {
     "name": "stdout",
     "output_type": "stream",
     "text": [
      "17\n",
      "18\n"
     ]
    }
   ],
   "source": [
    "w3 = Wild(17, 18)\n",
    "print(w3.getX())\n",
    "print(w3.getY())"
   ]
  },
  {
   "cell_type": "code",
   "execution_count": 35,
   "metadata": {},
   "outputs": [
    {
     "name": "stdout",
     "output_type": "stream",
     "text": [
      "7\n",
      "18\n"
     ]
    }
   ],
   "source": [
    "w4 = Wild(X, 18)\n",
    "print(w4.getX())\n",
    "print(w4.getY())"
   ]
  },
  {
   "cell_type": "code",
   "execution_count": 36,
   "metadata": {},
   "outputs": [
    {
     "name": "stdout",
     "output_type": "stream",
     "text": [
      "31\n",
      "7\n"
     ]
    }
   ],
   "source": [
    "X = w4.getX() + w3.getX() + w2.getX()\n",
    "print(X)\n",
    "print(w4.getX())"
   ]
  },
  {
   "cell_type": "code",
   "execution_count": 37,
   "metadata": {},
   "outputs": [
    {
     "name": "stdout",
     "output_type": "stream",
     "text": [
      "44\n",
      "8\n"
     ]
    }
   ],
   "source": [
    "Y = w4.getY() + w3.getY()\n",
    "Y = Y + w2.getY()\n",
    "print(Y)\n",
    "print(w2.getY())"
   ]
  },
  {
   "cell_type": "code",
   "execution_count": 38,
   "metadata": {},
   "outputs": [],
   "source": [
    "class Coordinate(object):\n",
    "    def __init__(self, x, y):\n",
    "        self.x = x\n",
    "        self.y = y\n",
    "\n",
    "    def getX(self):\n",
    "        # Getter method for a Coordinate object's x coordinate.\n",
    "        # Getter methods are better practice than just accessing an attribute directly\n",
    "        return self.x\n",
    "\n",
    "    def getY(self):\n",
    "        # Getter method for a Coordinate object's y coordinate\n",
    "        return self.y\n",
    "\n",
    "    def __str__(self):\n",
    "        return '<' + str(self.getX()) + ',' + str(self.getY()) + '>'\n",
    "    \n",
    "    def __eq__(self, other):\n",
    "        return self.getX() == other.getX() and self.getY() == other.getY()\n",
    "    \n",
    "    def __repr__(self):\n",
    "        return 'Coordinate(' + str(self.getX()) + ',' + str(self.getY()) + ')'"
   ]
  },
  {
   "cell_type": "code",
   "execution_count": 39,
   "metadata": {},
   "outputs": [],
   "source": [
    "c = Coordinate(1,2)\n",
    "d = Coordinate(3,4)"
   ]
  },
  {
   "cell_type": "code",
   "execution_count": 40,
   "metadata": {},
   "outputs": [],
   "source": [
    "f = eval(repr(c))"
   ]
  },
  {
   "cell_type": "code",
   "execution_count": 54,
   "metadata": {},
   "outputs": [
    {
     "data": {
      "text/plain": [
       "Coordinate(1,2)"
      ]
     },
     "execution_count": 54,
     "metadata": {},
     "output_type": "execute_result"
    }
   ],
   "source": [
    "c"
   ]
  },
  {
   "cell_type": "code",
   "execution_count": 42,
   "metadata": {},
   "outputs": [],
   "source": [
    "# class definition\n",
    "class intSet(object):\n",
    "    \"\"\"An intSet is a set of integers\"\"\" ## representation invariant\n",
    "    # Information about the implementation (not the abstraction)\n",
    "    # Value of the set is represented by a list of ints, self.vals.\n",
    "    # Each int in the set occurs in self.vals exactly once.\n",
    "    \n",
    "    # initiate the class\n",
    "    def __init__(self):\n",
    "        \"\"\"Create an empty set of integers\"\"\"\n",
    "        self.vals = []     # data attribute of the instance of IntSet\n",
    "    \n",
    "    # insert is a instance method\n",
    "    def insert(self, e):   # defining a method attribute of the class\n",
    "        \"\"\"Assumes e is an integer and inserts e into self\"\"\"\n",
    "        if e not in self.vals:    # maintains the representation invariant\n",
    "            self.vals.append(e)\n",
    "    \n",
    "    def member(self, e):\n",
    "        \"\"\"Assumes e is an integer\n",
    "           Returns True if e is in self, and False otherwise\"\"\"\n",
    "        return e in self.vals\n",
    "    \n",
    "    def remove(self, e):\n",
    "        \"\"\"Assumes e is integer and removes e from self\n",
    "           Raises ValueError if e is not in self\"\"\"\n",
    "        try:\n",
    "            self.vals.remove(e)     # assumes the representation invariant, only has 1 e\n",
    "        except:\n",
    "            raise ValueError(str(e) + ' not found')\n",
    "    \n",
    "    def getMembers(self):\n",
    "        \"\"\"Returns a list containing the elements of self.\n",
    "           Nothing can be assumed about the order of the elements\"\"\"\n",
    "        return self.vals[:]\n",
    "    \n",
    "    def __str__(self):    # how it will be printed\n",
    "        \"\"\"Returns a string representation of self\"\"\"\n",
    "        self.vals.sort()\n",
    "        result = ''\n",
    "        for e in self.vals:\n",
    "            result = result + str(e) + ','\n",
    "        return '{' + result[:-1] + '}' # -1 omits trailing comma\n",
    "    \n",
    "    def intersect(self, other):\n",
    "        newIntSet = intSet()\n",
    "        for e in self.getMembers():\n",
    "            if other.member(e):\n",
    "                newIntSet.insert(e)\n",
    "        return newIntSet\n",
    "    \n",
    "    def __len__(self):\n",
    "        return len(self.getMembers()) "
   ]
  },
  {
   "cell_type": "code",
   "execution_count": 43,
   "metadata": {},
   "outputs": [],
   "source": [
    "a = intSet()\n",
    "a.insert(1)\n",
    "a.insert(2)\n",
    "a.insert(10)\n",
    "\n",
    "b = intSet()\n",
    "b.insert(1)\n",
    "b.insert(3)\n",
    "b.insert(10)"
   ]
  },
  {
   "cell_type": "code",
   "execution_count": 44,
   "metadata": {
    "scrolled": true
   },
   "outputs": [
    {
     "name": "stdout",
     "output_type": "stream",
     "text": [
      "{1,10}\n"
     ]
    },
    {
     "data": {
      "text/plain": [
       "3"
      ]
     },
     "execution_count": 44,
     "metadata": {},
     "output_type": "execute_result"
    }
   ],
   "source": [
    "print(a.intersect(b))\n",
    "len(a)"
   ]
  },
  {
   "cell_type": "code",
   "execution_count": 45,
   "metadata": {},
   "outputs": [
    {
     "data": {
      "text/plain": [
       "__main__.intSet"
      ]
     },
     "execution_count": 45,
     "metadata": {},
     "output_type": "execute_result"
    }
   ],
   "source": [
    "type(a)"
   ]
  },
  {
   "cell_type": "markdown",
   "metadata": {},
   "source": [
    "#### observation\n",
    "- Always use getters and setters instead of accessing data attributes directly"
   ]
  },
  {
   "cell_type": "code",
   "execution_count": 46,
   "metadata": {},
   "outputs": [],
   "source": [
    "class Animal(object):\n",
    "    def __init__(self, age):\n",
    "        self.age = age\n",
    "        self.name = None\n",
    "    \n",
    "    # getters\n",
    "    def get_age(self):\n",
    "        return self.age\n",
    "    def get_name(self):\n",
    "        return self.name\n",
    "    \n",
    "    # setters\n",
    "    def set_age(self, newage):\n",
    "        self.age = newage\n",
    "    def set_name(self, newname=\"\"): # set default of \"\" as opposed to None\n",
    "        self.name = newname\n",
    "    \n",
    "    def __str__(self):\n",
    "        return \"animal: \" + str(self.name) + \": \" + str(self.age)"
   ]
  },
  {
   "cell_type": "code",
   "execution_count": 47,
   "metadata": {},
   "outputs": [
    {
     "name": "stdout",
     "output_type": "stream",
     "text": [
      "animal: None: 3\n",
      "animal: foobar: 3\n",
      "3\n"
     ]
    }
   ],
   "source": [
    "myAnimal = Animal(3)\n",
    "print(myAnimal)\n",
    "myAnimal.set_name('foobar')\n",
    "print(myAnimal)\n",
    "print(myAnimal.get_age())"
   ]
  },
  {
   "cell_type": "code",
   "execution_count": 66,
   "metadata": {},
   "outputs": [],
   "source": [
    "# Animal -> Cat\n",
    "class Cat(Animal):\n",
    "    def speak(self):\n",
    "        print(\"meow\")\n",
    "    def __str__(self):\n",
    "        return \"cat: \" + str(self.name) + \": \" + str(self.age)\n",
    "\n",
    "# Animal -> Cat\n",
    "class Rabbit(Animal):\n",
    "    def speak(self):\n",
    "        print(\"meep\")\n",
    "    def __str__(self):\n",
    "        return \"rabbit: \" + str(self.name) + \": \" + str(self.age)"
   ]
  },
  {
   "cell_type": "code",
   "execution_count": 60,
   "metadata": {},
   "outputs": [
    {
     "name": "stdout",
     "output_type": "stream",
     "text": [
      "cat: None: 1\n",
      "cat: JellyBelly: 1\n",
      "animal: JellyBelly: 1\n"
     ]
    }
   ],
   "source": [
    "jelly = Cat(1)\n",
    "print(jelly)\n",
    "jelly.get_name()\n",
    "jelly.set_name('JellyBelly')\n",
    "jelly.get_name()\n",
    "print(jelly)\n",
    "print(Animal.__str__(jelly))"
   ]
  },
  {
   "cell_type": "code",
   "execution_count": 65,
   "metadata": {},
   "outputs": [
    {
     "name": "stdout",
     "output_type": "stream",
     "text": [
      "animal: None: 1\n",
      "animal: : 1\n"
     ]
    }
   ],
   "source": [
    "blob = Animal(1)\n",
    "print(blob)\n",
    "blob.set_name()\n",
    "print(blob)"
   ]
  },
  {
   "cell_type": "code",
   "execution_count": 68,
   "metadata": {},
   "outputs": [
    {
     "name": "stdout",
     "output_type": "stream",
     "text": [
      "meow\n",
      "meep\n"
     ]
    },
    {
     "ename": "AttributeError",
     "evalue": "'Animal' object has no attribute 'speak'",
     "output_type": "error",
     "traceback": [
      "\u001b[1;31m---------------------------------------------------------------------------\u001b[0m",
      "\u001b[1;31mAttributeError\u001b[0m                            Traceback (most recent call last)",
      "\u001b[1;32m<ipython-input-68-fb00c602a827>\u001b[0m in \u001b[0;36m<module>\u001b[1;34m\u001b[0m\n\u001b[0;32m      2\u001b[0m \u001b[0mjelly\u001b[0m\u001b[1;33m.\u001b[0m\u001b[0mspeak\u001b[0m\u001b[1;33m(\u001b[0m\u001b[1;33m)\u001b[0m\u001b[1;33m\u001b[0m\u001b[1;33m\u001b[0m\u001b[0m\n\u001b[0;32m      3\u001b[0m \u001b[0mpeter\u001b[0m\u001b[1;33m.\u001b[0m\u001b[0mspeak\u001b[0m\u001b[1;33m(\u001b[0m\u001b[1;33m)\u001b[0m\u001b[1;33m\u001b[0m\u001b[1;33m\u001b[0m\u001b[0m\n\u001b[1;32m----> 4\u001b[1;33m \u001b[0mblob\u001b[0m\u001b[1;33m.\u001b[0m\u001b[0mspeak\u001b[0m\u001b[1;33m(\u001b[0m\u001b[1;33m)\u001b[0m\u001b[1;33m\u001b[0m\u001b[1;33m\u001b[0m\u001b[0m\n\u001b[0m",
      "\u001b[1;31mAttributeError\u001b[0m: 'Animal' object has no attribute 'speak'"
     ]
    }
   ],
   "source": [
    "peter = Rabbit(5)\n",
    "jelly.speak()\n",
    "peter.speak()\n",
    "# blob.speak() -> AtributeError blob is an animal, no speak method"
   ]
  },
  {
   "cell_type": "code",
   "execution_count": 70,
   "metadata": {},
   "outputs": [],
   "source": [
    "# Animal -> Person\n",
    "\n",
    "class Person(Animal):\n",
    "    def __init__(self, name, age):\n",
    "        Animal.__init__(self, age)\n",
    "        Animal.set_name(self, name)\n",
    "        self.friends = []\n",
    "    \n",
    "    def get_friends(self):\n",
    "        return self.friends\n",
    "    \n",
    "    def add_friends(self, fname):\n",
    "        if fname not in self.friends:\n",
    "            self.friends.append(fname)\n",
    "    \n",
    "    def speak(self):\n",
    "        print(\"hello\")\n",
    "        \n",
    "    def age_diff(self, other):\n",
    "        diff = self.get_age() - other.get_age()\n",
    "        if self.age > other.age:\n",
    "            print(self.name, \"is\", diff, \"years older than\", other.name)\n",
    "        else:\n",
    "            print(self.name, \"is\", -diff, \"years younger than\", other.name)\n",
    "        \n",
    "    def __str__(self):\n",
    "        return \"person: \" + str(self.name) + \": \" + str(self.age)"
   ]
  },
  {
   "cell_type": "code",
   "execution_count": 72,
   "metadata": {},
   "outputs": [
    {
     "data": {
      "text/plain": [
       "27"
      ]
     },
     "execution_count": 72,
     "metadata": {},
     "output_type": "execute_result"
    }
   ],
   "source": [
    "me = Person(\"Cassiano\", 27)\n",
    "me.get_age()"
   ]
  },
  {
   "cell_type": "code",
   "execution_count": 75,
   "metadata": {},
   "outputs": [
    {
     "name": "stdout",
     "output_type": "stream",
     "text": [
      "hello\n",
      "eric is 10 years younger than john\n",
      "eric is 10 years younger than john\n"
     ]
    }
   ],
   "source": [
    "eric = Person(\"eric\", 45)\n",
    "john = Person (\"john\", 55)\n",
    "eric.speak()\n",
    "\n",
    "eric.age_diff(john)\n",
    "Person.age_diff(eric, john)"
   ]
  },
  {
   "cell_type": "code",
   "execution_count": 83,
   "metadata": {},
   "outputs": [],
   "source": [
    "# Animal -> Person -> Student\n",
    "import random\n",
    "\n",
    "class Student(Person):\n",
    "    def __init__(self, name, age, major=None):\n",
    "        Person.__init__(self, name, age)\n",
    "        self.major = major\n",
    "        \n",
    "    def change_major(self, major):\n",
    "        self.major = major\n",
    "    \n",
    "    def speak(self):\n",
    "        r = random.random()\n",
    "        if r < 0.25:\n",
    "            print(\"i have homework\")\n",
    "        elif 0.25 <= r < 0.5:\n",
    "            print(\"i need to sleep\")\n",
    "        elif 0.5 <= r < 0.75:\n",
    "            print(\"i should eat\")\n",
    "        else:\n",
    "            print(\"i am watching tv\")\n",
    "        \n",
    "    def __str__(self):\n",
    "        return \"student: \" + str(self.name) + \": \" + str(self.age) + \": \" + str(self.major)"
   ]
  },
  {
   "cell_type": "code",
   "execution_count": 95,
   "metadata": {},
   "outputs": [
    {
     "name": "stdout",
     "output_type": "stream",
     "text": [
      "student: Fred: 18: Course VI\n",
      "i am watching tv\n",
      "i have homework\n",
      "i need to sleep\n",
      "i should eat\n"
     ]
    }
   ],
   "source": [
    "fred = Student('Fred', 18, 'Course VI')\n",
    "print(fred)\n",
    "fred.speak()\n",
    "fred.speak()\n",
    "fred.speak()\n",
    "fred.speak()"
   ]
  },
  {
   "cell_type": "markdown",
   "metadata": {},
   "source": [
    "#### Exercise"
   ]
  },
  {
   "cell_type": "code",
   "execution_count": 97,
   "metadata": {},
   "outputs": [
    {
     "name": "stdout",
     "output_type": "stream",
     "text": [
      "Accio\n",
      "Summoning Charm Accio\n",
      "This charm summons an object to the caster, potentially over a significant distance.\n",
      "Confundus Charm Confundo\n",
      "Causes the victim to become confused and befuddled.\n"
     ]
    }
   ],
   "source": [
    "class Spell(object):\n",
    "    def __init__(self, incantation, name):\n",
    "        self.name = name\n",
    "        self.incantation = incantation\n",
    "\n",
    "    def __str__(self):\n",
    "        return self.name + ' ' + self.incantation + '\\n' + self.getDescription()\n",
    "              \n",
    "    def getDescription(self):\n",
    "        return 'No description'\n",
    "    \n",
    "    def execute(self):\n",
    "        print(self.incantation)\n",
    "\n",
    "\n",
    "class Accio(Spell):\n",
    "    def __init__(self):\n",
    "        Spell.__init__(self, 'Accio', 'Summoning Charm')\n",
    "    def getDescription(self):\n",
    "        return 'This charm summons an object to the caster, potentially over a significant distance.'\n",
    "\n",
    "class Confundo(Spell):\n",
    "    def __init__(self):\n",
    "        Spell.__init__(self, 'Confundo', 'Confundus Charm')\n",
    "\n",
    "    def getDescription(self):\n",
    "        return 'Causes the victim to become confused and befuddled.'\n",
    "\n",
    "def studySpell(spell):\n",
    "    print(spell)\n",
    "\n",
    "spell = Accio()\n",
    "spell.execute()\n",
    "studySpell(spell)\n",
    "studySpell(Confundo())"
   ]
  },
  {
   "cell_type": "code",
   "execution_count": 98,
   "metadata": {},
   "outputs": [],
   "source": [
    "class A(object):\n",
    "    def __init__(self):\n",
    "        self.a = 1\n",
    "    def x(self):\n",
    "        print(\"A.x\")\n",
    "    def y(self):\n",
    "        print(\"A.y\")\n",
    "    def z(self):\n",
    "        print(\"A.z\")\n",
    "\n",
    "class B(A):\n",
    "    def __init__(self):\n",
    "        A.__init__(self)\n",
    "        self.a = 2\n",
    "        self.b = 3\n",
    "    def y(self):\n",
    "        print(\"B.y\")\n",
    "    def z(self):\n",
    "        print(\"B.z\")\n",
    "\n",
    "class C(object):\n",
    "    def __init__(self):\n",
    "        self.a = 4\n",
    "        self.c = 5\n",
    "    def y(self):\n",
    "        print(\"C.y\")\n",
    "    def z(self):\n",
    "        print(\"C.z\")\n",
    "\n",
    "class D(C, B):\n",
    "    def __init__(self):\n",
    "        C.__init__(self)\n",
    "        B.__init__(self)\n",
    "        self.d = 6\n",
    "    def z(self):\n",
    "        print(\"D.z\")"
   ]
  },
  {
   "cell_type": "code",
   "execution_count": 102,
   "metadata": {},
   "outputs": [
    {
     "name": "stdout",
     "output_type": "stream",
     "text": [
      "2\n",
      "A.x\n"
     ]
    }
   ],
   "source": [
    "obj = D()\n",
    "print(obj.a)\n",
    "obj.x()"
   ]
  },
  {
   "cell_type": "markdown",
   "metadata": {},
   "source": [
    "**observation**\n",
    "- `data attributes` are initialized, prevails the last subscription\n",
    "- `procedure attributes` are searched, prevails the first to appear"
   ]
  },
  {
   "cell_type": "code",
   "execution_count": 136,
   "metadata": {},
   "outputs": [],
   "source": [
    "class Rabbit(Animal):\n",
    "    \n",
    "    tag = 1 # class variable\n",
    "            # class keeps track of the variable\n",
    "    \n",
    "    def __init__(self, age, parent1=None, parent2=None):\n",
    "        Animal.__init__(self, age)\n",
    "        self.parent1 = parent1\n",
    "        self.parent2 = parent2\n",
    "        self.rid = Rabbit.tag\n",
    "        Rabbit.tag += 1\n",
    "        \n",
    "    def get_rid(self):\n",
    "        return str(self.rid).zfill(3) # print in the same size e.g. 001\n",
    "    def get_parent1(self):\n",
    "        return self.parent1\n",
    "    def get_parent2(self):\n",
    "        return self.parent2\n",
    "    \n",
    "    def __add__(self, other):\n",
    "        return Rabbit(0, self, other)\n",
    "    \n",
    "    def __eq__(self,other):\n",
    "        parents_name = self.parent1.rid == other.parent1.rid \\\n",
    "                       and self.parent2.rid == other.parent2.rid\n",
    "        parents_opposite = self.parent2.rid == other.parent1.rid \\\n",
    "                           and self.parent1.rid == other.parent2.rid\n",
    "        return parents_name or parents_opposite\n",
    "    \n",
    "    def speak(self):\n",
    "        print(\"meep\")\n",
    "    def __str__(self):\n",
    "        return \"rabbit: \" + str(self.name) + \": \" + str(self.age)"
   ]
  },
  {
   "cell_type": "code",
   "execution_count": 157,
   "metadata": {},
   "outputs": [
    {
     "name": "stdout",
     "output_type": "stream",
     "text": [
      "1 rabbit: Cottontail: 1\n",
      "2 rabbit: Peter: 2 rabbit: Hopsy: 3\n",
      "3 rabbit: Mopsy: 0\n",
      "True\n",
      "9\n",
      "005\n",
      "006\n",
      "007\n",
      "008\n"
     ]
    }
   ],
   "source": [
    "peter = Rabbit(2)\n",
    "peter.set_name('Peter')\n",
    "\n",
    "hopsy = Rabbit(3)\n",
    "hopsy.set_name('Hopsy')\n",
    "\n",
    "cotton = Rabbit(1, peter, hopsy)\n",
    "cotton.set_name('Cottontail')\n",
    "\n",
    "print(1, cotton)\n",
    "print(2, cotton.get_parent1(), cotton.get_parent2())\n",
    "\n",
    "mopsy = peter + hopsy\n",
    "mopsy.set_name('Mopsy')\n",
    "print(3, mopsy)\n",
    "print(mopsy == cotton)\n",
    "\n",
    "print(Rabbit.tag)\n",
    "print(peter.get_rid())\n",
    "print(hopsy.get_rid())\n",
    "print(cotton.get_rid())\n",
    "print(mopsy.get_rid())"
   ]
  },
  {
   "cell_type": "markdown",
   "metadata": {},
   "source": [
    "## Mortgages, and Extended Example\n",
    "\n",
    "$$loan \\times \\frac{r(1+r)^m}{(1+r)^m - 1}$$"
   ]
  },
  {
   "cell_type": "code",
   "execution_count": 12,
   "metadata": {},
   "outputs": [],
   "source": [
    "# size of the fixed monthly payment needed\n",
    "def findPayment(loan, r, m):\n",
    "    \"\"\"Assumes: loan and r are floats, m an int\n",
    "       Returns the monthly payment for a mortgage of size\n",
    "       loan at a monthly rate of r for m months\"\"\"\n",
    "    return loan*((r * (1+r)**m)/((1+r)**m - 1))\n",
    "\n",
    "class Mortgage(object):\n",
    "    \"\"\"Abstract class for building difference kinds of mortgages\"\"\"\n",
    "    def __init__(self, loan, annRate, months):\n",
    "        \"\"\"Assumes: loan and annRate are floats, months an in int\n",
    "           Creates a new mortgage of size loan, duration months, and\n",
    "           annual rate annRate\"\"\"\n",
    "        self.loan = loan\n",
    "        self.rate = annRate / 12\n",
    "        self.months = months\n",
    "        self.paid = [0.0]\n",
    "        self.outstanding = [loan]\n",
    "        self.payment = findPayment(loan, self.rate, months)\n",
    "        self.legend = None # description of mortgage\n",
    "    \n",
    "    # record payments\n",
    "    def makePayment(self):\n",
    "        \"\"\"Make payment\"\"\"\n",
    "        self.paid.append(self.payment)\n",
    "        reduction = self.payment - self.outstanding[-1]*self.rate\n",
    "        self.outstanding.append(self.outstanding[-1] - reduction)\n",
    "        \n",
    "    def getTotalPaid(self):\n",
    "        \"\"\"Return the total amount paid so far\"\"\"\n",
    "        return sum(self.paid)\n",
    "    \n",
    "    def __str__(self):\n",
    "        return self. legend"
   ]
  },
  {
   "cell_type": "code",
   "execution_count": 19,
   "metadata": {},
   "outputs": [],
   "source": [
    "class Fixed(Mortgage):\n",
    "    def __init__(self, loan, r, months):\n",
    "        Mortgage.__init__(self, loan, r, months)\n",
    "        self.legend = 'Fixed, ' + str(round(r*100, 2)) + '%'\n",
    "\n",
    "class FixedWithPts(Mortgage):\n",
    "    def __init__(self, loan, r, months, pts):\n",
    "        Mortgage.__init__(self, loan, r, months)\n",
    "        self.pts = pts\n",
    "        self.paid = [loan*(pts/100)] # point is a cash payment of 1% of the value of the loan\n",
    "        self.legend = 'Fixed, ' + str(round(r*100, 2)) + '%, ' \\\n",
    "                       + str(pts) + ' points'\n",
    "\n",
    "class TwoRate(Mortgage):\n",
    "    def __init__(self, loan, r, months, teaserRate, teaserMonths):\n",
    "        Mortgage.__init__(self, loan, teaserRate, months)\n",
    "        self.teaserMonths = teaserMonths\n",
    "        self.teaserRate = teaserRate\n",
    "        self.nextRate = r/12\n",
    "        self.legend = str(teaserRate*100)\\\n",
    "                      + '% for ' + str(self.teaserMonths)\\\n",
    "                      + ' months, then ' + str(round(r*100, 2)) + '%'\n",
    "    \n",
    "    def makePayment(self):\n",
    "        if len(self.paid) == self.teaserMonths + 1:\n",
    "            self.rate = self.nextRate\n",
    "            self.payment = findPayment(self.outstanding[-1],\n",
    "                                       self.rate,\n",
    "                                       self.months - self.teaserMonths)\n",
    "        Mortgage.makePayment(self)"
   ]
  },
  {
   "cell_type": "code",
   "execution_count": 20,
   "metadata": {},
   "outputs": [
    {
     "name": "stdout",
     "output_type": "stream",
     "text": [
      "Fixed, 7.0%\n",
      " Total payment = $479017\n",
      "Fixed, 5.0%, 3.25 points\n",
      " Total payment = $393011\n",
      "4.5% for 48 months, then 9.5%\n",
      " Total payment = $551444\n"
     ]
    }
   ],
   "source": [
    "def compareMortgages(amt, years, fixedRate, pts, ptsRate,\n",
    "                     varRate1, varRate2, varMonths):\n",
    "    totMonths = years*12\n",
    "    fixed1 = Fixed(amt, fixedRate, totMonths)\n",
    "    fixed2 = FixedWithPts(amt, ptsRate, totMonths, pts)\n",
    "    twoRate = TwoRate(amt, varRate2, totMonths, varRate1, varMonths)\n",
    "    morts = [fixed1, fixed2, twoRate]\n",
    "    for m in range(totMonths):\n",
    "        for mort in morts:\n",
    "            mort.makePayment()\n",
    "    for m in morts:\n",
    "        print(m)\n",
    "        print(' Total payment = $' + str(int(m.getTotalPaid())))\n",
    "\n",
    "compareMortgages(amt=200000, years=30, fixedRate=0.07,\n",
    "                 pts=3.25, ptsRate=0.05, varRate1=0.045,\n",
    "                 varRate2=0.095, varMonths=48)"
   ]
  },
  {
   "cell_type": "code",
   "execution_count": 56,
   "metadata": {},
   "outputs": [],
   "source": [
    "import datetime\n",
    "\n",
    "class Person(object):\n",
    "    \n",
    "    def __init__(self, name):\n",
    "        \"\"\"Create a person called name\"\"\"\n",
    "        self.name = name\n",
    "        self.birthday = None\n",
    "        self.lastName = name.split(' ')[-1]\n",
    "    \n",
    "    def setBirthday(self, month, day, year):\n",
    "        \"\"\"sets self's birthday to birthDate\"\"\"\n",
    "        self.birthDate = datetime.date(year, month, day)\n",
    "        \n",
    "    def getLastName(self):\n",
    "        \"\"\"return sel's last name\"\"\"\n",
    "        return self.lastName\n",
    "    \n",
    "    def getAge(self):\n",
    "        \"\"\"returns self's current age in days\"\"\"\n",
    "        if self.birthday == None:\n",
    "            raise ValueError\n",
    "        return (datetime.date.today() - self.birthDate).days\n",
    "    \n",
    "    def __lt__(self, other):\n",
    "        \"\"\"Return True if self's name is lexicographically\n",
    "           less than other's name, and False otherwise\"\"\"\n",
    "        if self.lastName == other.lastName:\n",
    "            return self.name < other.name\n",
    "        return self.lastName < other.lastName\n",
    "    \n",
    "    def __str__(self):\n",
    "        \"\"\"return self's name\"\"\"\n",
    "        return self.name    "
   ]
  },
  {
   "cell_type": "code",
   "execution_count": 57,
   "metadata": {},
   "outputs": [
    {
     "name": "stdout",
     "output_type": "stream",
     "text": [
      "Marck Zuckerberg\n",
      "Drew Houston\n",
      "Bill Gates\n",
      "Andrew Gates\n",
      "Steve Wozniak\n",
      "\n",
      "---after---\n",
      "\n",
      "Andrew Gates\n",
      "Bill Gates\n",
      "Drew Houston\n",
      "Steve Wozniak\n",
      "Marck Zuckerberg\n"
     ]
    }
   ],
   "source": [
    "p1 = Person('Marck Zuckerberg')\n",
    "p1.setBirthday(5,14,84)\n",
    "p2 = Person('Drew Houston')\n",
    "p2.setBirthday(3,4,83)\n",
    "p3 = Person('Bill Gates')\n",
    "p3.setBirthday(10,28,55)\n",
    "p4 = Person('Andrew Gates')\n",
    "p5 = Person('Steve Wozniak')\n",
    "\n",
    "personList = [p1, p2, p3, p4, p5]\n",
    "for e in personList:\n",
    "    print(e)\n",
    "personList.sort()\n",
    "print('\\n---after---\\n')\n",
    "for e in personList:\n",
    "    print(e)"
   ]
  },
  {
   "cell_type": "code",
   "execution_count": 136,
   "metadata": {},
   "outputs": [],
   "source": [
    "class MITPerson(Person):\n",
    "    \n",
    "    # class attribute\n",
    "    nextIdNum = 0\n",
    "    \n",
    "    def __init__(self, name):\n",
    "        Person.__init__(self, name)\n",
    "        self.idNum = MITPerson.nextIdNum\n",
    "        MITPerson.nextIdNum += 1\n",
    "    \n",
    "    def getIdNum(self):\n",
    "        return self.idNum\n",
    "    \n",
    "    def __lt__(self, other):\n",
    "        return self.idNum < other.idNum\n",
    "\n",
    "    def speak(self, utterance):\n",
    "        return (self.name + \" says: \" + utterance)"
   ]
  },
  {
   "cell_type": "code",
   "execution_count": 137,
   "metadata": {},
   "outputs": [],
   "source": [
    "m3 = MITPerson('Mark Zuckerberg')\n",
    "Person.setBirthday(m3, 5,14,84)\n",
    "m2 = MITPerson('Drew Houston')\n",
    "Person.setBirthday(m2,3,4,83)\n",
    "m1 = MITPerson('Bill Gates')\n",
    "Person.setBirthday(m1,10,28,55)"
   ]
  },
  {
   "cell_type": "code",
   "execution_count": 138,
   "metadata": {},
   "outputs": [
    {
     "name": "stdout",
     "output_type": "stream",
     "text": [
      "Bill Gates says: Hi there\n",
      "Bill Gates 2\n",
      "Drew Houston 1\n",
      "Mark Zuckerberg 0\n",
      "\n",
      "---after---\n",
      "\n",
      "Mark Zuckerberg 0\n",
      "Drew Houston 1\n",
      "Bill Gates 2\n"
     ]
    }
   ],
   "source": [
    "print(m1.speak('Hi there'))\n",
    "\n",
    "MITPersonList = [m1,m2,m3]\n",
    "\n",
    "for e in MITPersonList:\n",
    "    print(e, e.getIdNum())\n",
    "\n",
    "MITPersonList.sort()\n",
    "print('\\n---after---\\n')\n",
    "\n",
    "for e in MITPersonList:\n",
    "    print(e, e.getIdNum())"
   ]
  },
  {
   "cell_type": "code",
   "execution_count": 139,
   "metadata": {},
   "outputs": [],
   "source": [
    "p1 = MITPerson('Eric')\n",
    "p2 = MITPerson('John')\n",
    "p3 = MITPerson('John')\n",
    "p4 = Person('John')"
   ]
  },
  {
   "cell_type": "code",
   "execution_count": 140,
   "metadata": {},
   "outputs": [
    {
     "data": {
      "text/plain": [
       "False"
      ]
     },
     "execution_count": 140,
     "metadata": {},
     "output_type": "execute_result"
    }
   ],
   "source": [
    "p4 < p1\n",
    "# p1 < p4 # AttributeError"
   ]
  },
  {
   "cell_type": "code",
   "execution_count": null,
   "metadata": {},
   "outputs": [],
   "source": [
    "class UG(MITPerson):\n",
    "    def __init__(self, name, classYear):\n",
    "        MITPerson.__init__(self, name)\n",
    "        self.year = classYear\n",
    "        \n",
    "    def getClass(self):\n",
    "        return self.year\n",
    "    \n",
    "    def speak(self, utterance):\n",
    "        return MITPerson.speak(self, \" Dude, \" + utterance)\n",
    "    \n",
    "class Grad(MITPerson):\n",
    "    pass\n",
    "\n",
    "class TransferStudent(MITPerson):\n",
    "    pass\n",
    "\n",
    "def isStudent(obj):\n",
    "    return isinstance(obj, UG) or isinstance(obj,Grad)"
   ]
  },
  {
   "cell_type": "code",
   "execution_count": 152,
   "metadata": {},
   "outputs": [
    {
     "name": "stdout",
     "output_type": "stream",
     "text": [
      "Matt Damon\n",
      "2017\n",
      "Matt Damon says:  Yo bro, where is the quiz?\n",
      "Ben Affleck says:  Yo bro, I have no Clue!\n"
     ]
    }
   ],
   "source": [
    "s1 = UG('Matt Damon', 2017)\n",
    "s2 = UG('Ben Affleck', 2017)\n",
    "s3 = UG('Lin Manuel Miranda', 2018)\n",
    "s4 = Grad('Leornardo di Caprio')\n",
    "\n",
    "StudenList = [s1, s2, s3, s4]\n",
    "\n",
    "print(s1)\n",
    "print(s1.getClass())\n",
    "print(s1.speak('where is the quiz?'))\n",
    "print(s2.speak('I have no Clue!'))"
   ]
  },
  {
   "cell_type": "code",
   "execution_count": 97,
   "metadata": {},
   "outputs": [
    {
     "data": {
      "text/plain": [
       "True"
      ]
     },
     "execution_count": 97,
     "metadata": {},
     "output_type": "execute_result"
    }
   ],
   "source": [
    "isStudent(s1)"
   ]
  },
  {
   "cell_type": "code",
   "execution_count": 147,
   "metadata": {},
   "outputs": [],
   "source": [
    "class Student(MITPerson):\n",
    "    pass\n",
    "\n",
    "class UG(Student):\n",
    "    def __init__(self, name, classYear):\n",
    "        MITPerson.__init__(self, name)\n",
    "        self.year = classYear\n",
    "        \n",
    "    def getClass(self):\n",
    "        return self.year\n",
    "    \n",
    "    def speak(self, utterance):\n",
    "        return MITPerson.speak(self, \" Yo bro, \" + utterance)\n",
    "    \n",
    "class Grad(Student):\n",
    "    pass\n",
    "\n",
    "class TransferStudent(Student):\n",
    "    pass\n",
    "\n",
    "def isStudent(obj):\n",
    "    return isinstance(obj, Student)"
   ]
  },
  {
   "cell_type": "code",
   "execution_count": 153,
   "metadata": {},
   "outputs": [
    {
     "data": {
      "text/plain": [
       "False"
      ]
     },
     "execution_count": 153,
     "metadata": {},
     "output_type": "execute_result"
    }
   ],
   "source": [
    "s1 is Student"
   ]
  },
  {
   "cell_type": "code",
   "execution_count": 154,
   "metadata": {},
   "outputs": [],
   "source": [
    "class Professor(MITPerson):\n",
    "    def __init__(self, name, department):\n",
    "        MITPerson.__init__(self, name)\n",
    "        self.department = department\n",
    "    \n",
    "    def speak(self, utterance):\n",
    "        new = 'In course ' + self.department + ' we say '\n",
    "        return MITPerson.speak(self, new + utterance)\n",
    "    \n",
    "    def lecture(self, topic):\n",
    "        return self.speak('it is obvious that ' + topic)"
   ]
  },
  {
   "cell_type": "code",
   "execution_count": 155,
   "metadata": {},
   "outputs": [],
   "source": [
    "faculty = Professor('Doctor Arrogant', 'six')"
   ]
  },
  {
   "cell_type": "code",
   "execution_count": 156,
   "metadata": {},
   "outputs": [
    {
     "name": "stdout",
     "output_type": "stream",
     "text": [
      "Bill Gates says: hi there\n",
      "Matt Damon says:  Yo bro, hi there\n",
      "Doctor Arrogant says: In course six we say hi there\n",
      "Doctor Arrogant says: In course six we say it is obvious that hi there\n"
     ]
    }
   ],
   "source": [
    "print(m1.speak('hi there'))\n",
    "print(s1.speak('hi there'))\n",
    "print(faculty.speak('hi there'))\n",
    "print(faculty.lecture('hi there'))"
   ]
  },
  {
   "cell_type": "code",
   "execution_count": 228,
   "metadata": {},
   "outputs": [
    {
     "name": "stdout",
     "output_type": "stream",
     "text": [
      "fhhmouv\n",
      "7\n",
      "aampszz\n",
      "7\n",
      "ampsz\n",
      "5\n"
     ]
    }
   ],
   "source": [
    "import random \n",
    "\n",
    "class Hand(object):\n",
    "    def __init__(self, n):\n",
    "        '''\n",
    "        Initialize a Hand.\n",
    "\n",
    "        n: integer, the size of the hand.\n",
    "        '''\n",
    "        assert type(n) == int\n",
    "        self.HAND_SIZE = n\n",
    "        self.VOWELS = 'aeiou'\n",
    "        self.CONSONANTS = 'bcdfghjklmnpqrstvwxyz'\n",
    "\n",
    "        # Deal a new hand\n",
    "        self.dealNewHand()\n",
    "\n",
    "    def dealNewHand(self):\n",
    "        '''\n",
    "        Deals a new hand, and sets the hand attribute to the new hand.\n",
    "        '''\n",
    "        # Set self.hand to a new, empty dictionary\n",
    "        self.hand = {}\n",
    "\n",
    "        # Build the hand\n",
    "        numVowels = self.HAND_SIZE // 3\n",
    "    \n",
    "        for i in range(numVowels):\n",
    "            x = self.VOWELS[random.randrange(0,len(self.VOWELS))]\n",
    "            self.hand[x] = self.hand.get(x, 0) + 1\n",
    "        \n",
    "        for i in range(numVowels, self.HAND_SIZE):    \n",
    "            x = self.CONSONANTS[random.randrange(0,len(self.CONSONANTS))]\n",
    "            self.hand[x] = self.hand.get(x, 0) + 1\n",
    "            \n",
    "    def setDummyHand(self, handString):\n",
    "        '''\n",
    "        Allows you to set a dummy hand. Useful for testing your implementation.\n",
    "\n",
    "        handString: A string of letters you wish to be in the hand. Length of this\n",
    "        string must be equal to self.HAND_SIZE.\n",
    "\n",
    "        This method converts sets the hand attribute to a dictionary\n",
    "        containing the letters of handString.\n",
    "        '''\n",
    "        assert len(handString) == self.HAND_SIZE, \"Length of handString ({0}) must equal length of HAND_SIZE ({1})\".format(len(handString), self.HAND_SIZE)\n",
    "        self.hand = {}\n",
    "        for char in handString:\n",
    "            self.hand[char] = self.hand.get(char, 0) + 1\n",
    "\n",
    "\n",
    "    def calculateLen(self):\n",
    "        '''\n",
    "        Calculate the length of the hand.\n",
    "        '''\n",
    "        ans = 0\n",
    "        for k in self.hand:\n",
    "            ans += self.hand[k]\n",
    "        return ans\n",
    "    \n",
    "    def __str__(self):\n",
    "        '''\n",
    "        Display a string representation of the hand.\n",
    "        '''\n",
    "        output = ''        \n",
    "        hand_keys = sorted(self.hand.keys())\n",
    "        for letter in hand_keys:\n",
    "            for j in range(self.hand[letter]):\n",
    "                output += letter\n",
    "        return output\n",
    "\n",
    "    def update(self, word):\n",
    "        \"\"\"\n",
    "        Does not assume that self.hand has all the letters in word.\n",
    "\n",
    "        Updates the hand: if self.hand does have all the letters to make\n",
    "        the word, modifies self.hand by using up the letters in the given word.\n",
    "\n",
    "        Returns True if the word was able to be made with the letter in\n",
    "        the hand; False otherwise.\n",
    "        \n",
    "        word: string\n",
    "        returns: Boolean (if the word was or was not made)\n",
    "        \"\"\"\n",
    "        ans = True\n",
    "        for letter in word:\n",
    "            if letter in self.hand.keys():\n",
    "                continue\n",
    "            else:\n",
    "                return False\n",
    "        if ans:\n",
    "            for letter in word:\n",
    "                self.hand[letter] = self.hand.get(letter) - 1\n",
    "        return ans\n",
    "\n",
    "    \n",
    "myHand = Hand(7)\n",
    "print(myHand)\n",
    "print(myHand.calculateLen())\n",
    "\n",
    "myHand.setDummyHand('aazzmsp')\n",
    "print(myHand)\n",
    "print(myHand.calculateLen())\n",
    "\n",
    "myHand.update('za')\n",
    "print(myHand)\n",
    "print(myHand.calculateLen())"
   ]
  },
  {
   "cell_type": "code",
   "execution_count": 184,
   "metadata": {},
   "outputs": [],
   "source": [
    "class Grades(object):\n",
    "    \"\"\"A mapping from students to a list of grades\"\"\"\n",
    "    def __init__(self):\n",
    "        \"\"\"Create empty grade book\"\"\"\n",
    "        self.students = [] # list of students\n",
    "        self.grades = {} # idNum -> list of grades\n",
    "        self.isSorted = True\n",
    "    \n",
    "    def addStudent(self, student):\n",
    "        \"\"\"Assumes: student is of type Student\n",
    "           Add student to the grade book\"\"\"\n",
    "        if student in self.students:\n",
    "            raise ValueError('Duplicate student')\n",
    "        self.students.append(student)\n",
    "        self.grades[student.getIdNum()] = []\n",
    "        self.sorted = False\n",
    "    \n",
    "    def addGrade(self, student, grade):\n",
    "        \"\"\"Assumes: grade is a float\n",
    "           Add grade to the list of grades for students\"\"\"\n",
    "        try:\n",
    "            self.grades[student.getIdNum()].append(grade)\n",
    "        except:\n",
    "            raise ValueError('Student not in grade book')\n",
    "        \n",
    "    def getGrades(self, student):\n",
    "        \"\"\"Return a list of grades for student\"\"\"\n",
    "        try:\n",
    "            return self.grades[student.getIdNum()][:]\n",
    "        except:\n",
    "            raise ValueError('Student not in grade book')\n",
    "    \n",
    "    def allStudents(self):\n",
    "        \"\"\"Return a list of the students in the grade book\"\"\"\n",
    "        if not self.isSorted:\n",
    "            self.students.sort()\n",
    "            self.isSorted = True\n",
    "        return self.students[:]"
   ]
  },
  {
   "cell_type": "code",
   "execution_count": 185,
   "metadata": {},
   "outputs": [],
   "source": [
    "def gradeReport(course):\n",
    "    \"\"\"Assumes: course is of type grades\"\"\"\n",
    "    report = []\n",
    "    for s in course.allStudents():\n",
    "        tot = 0.0\n",
    "        numGrades = 0\n",
    "        for g in course.getGrades(s):\n",
    "            tot += g\n",
    "            numGrades += 1\n",
    "        try:\n",
    "            average = tot/numGrades\n",
    "            report.append(str(s) + '\\'s mean grade is '\n",
    "                          + str(average))\n",
    "        except ZeroDivisionError:\n",
    "            report.append(str(s) + ' has no grades')\n",
    "    return '\\n'.join(report)"
   ]
  },
  {
   "cell_type": "code",
   "execution_count": 186,
   "metadata": {},
   "outputs": [],
   "source": [
    "ug1 = UG('Matt Damon', 2018)\n",
    "ug2 = UG('Ben Affleck', 2019)\n",
    "ug3 = UG('Drew Houston', 2017)\n",
    "ug4 = UG('Mark Zuckerberg', 2017)\n",
    "g1 = Grad('Bill Gates')\n",
    "g2 = Grad('Steve Wozniak')\n",
    "\n",
    "six00 = Grades()\n",
    "six00.addStudent(g1)\n",
    "six00.addStudent(ug2)\n",
    "six00.addStudent(ug1)\n",
    "six00.addStudent(g2)\n",
    "six00.addStudent(ug4)\n",
    "six00.addStudent(ug3)"
   ]
  },
  {
   "cell_type": "code",
   "execution_count": 187,
   "metadata": {},
   "outputs": [
    {
     "name": "stdout",
     "output_type": "stream",
     "text": [
      "Bill Gates's mean grade is 100.0\n",
      "Ben Affleck's mean grade is 85.0\n",
      "Matt Damon's mean grade is 95.0\n",
      "Steve Wozniak's mean grade is 25.0\n",
      "Mark Zuckerberg has no grades\n",
      "Drew Houston's mean grade is 75.0\n",
      "\n",
      "Bill Gates's mean grade is 95.0\n",
      "Ben Affleck's mean grade is 80.0\n",
      "Matt Damon's mean grade is 87.5\n",
      "Steve Wozniak's mean grade is 35.0\n",
      "Mark Zuckerberg has no grades\n",
      "Drew Houston's mean grade is 75.0\n"
     ]
    }
   ],
   "source": [
    "six00.addGrade(g1, 100)\n",
    "six00.addGrade(g2,25)\n",
    "six00.addGrade(ug1, 95)\n",
    "six00.addGrade(ug2, 85)\n",
    "six00.addGrade(ug3, 75)\n",
    "\n",
    "print(gradeReport(six00))\n",
    "\n",
    "six00.addGrade(g1, 90)\n",
    "six00.addGrade(g2, 45)\n",
    "six00.addGrade(ug1, 80)\n",
    "six00.addGrade(ug2, 75)\n",
    "\n",
    "print()\n",
    "print(gradeReport(six00))"
   ]
  },
  {
   "cell_type": "code",
   "execution_count": 188,
   "metadata": {},
   "outputs": [
    {
     "name": "stdout",
     "output_type": "stream",
     "text": [
      "Bill Gates\n",
      "Ben Affleck\n",
      "Matt Damon\n",
      "Steve Wozniak\n",
      "Mark Zuckerberg\n",
      "Drew Houston\n"
     ]
    }
   ],
   "source": [
    "for s in six00.allStudents():\n",
    "    print(s)"
   ]
  },
  {
   "cell_type": "code",
   "execution_count": 189,
   "metadata": {},
   "outputs": [
    {
     "data": {
      "text/plain": [
       "'Damon'"
      ]
     },
     "execution_count": 189,
     "metadata": {},
     "output_type": "execute_result"
    }
   ],
   "source": [
    "ug1.lastName"
   ]
  },
  {
   "cell_type": "markdown",
   "metadata": {},
   "source": [
    "### Generator"
   ]
  },
  {
   "cell_type": "code",
   "execution_count": 229,
   "metadata": {},
   "outputs": [
    {
     "name": "stdout",
     "output_type": "stream",
     "text": [
      "1\n",
      "2\n",
      "fails next iteration\n"
     ]
    }
   ],
   "source": [
    "def genTest():\n",
    "    yield 1\n",
    "    yield 2\n",
    "\n",
    "foo = genTest()\n",
    "print(foo.__next__())\n",
    "print(foo.__next__())\n",
    "\n",
    "try: foo.__next__()\n",
    "except: print('fails next iteration')"
   ]
  },
  {
   "cell_type": "code",
   "execution_count": 230,
   "metadata": {},
   "outputs": [],
   "source": [
    "def genFib():\n",
    "    fibn_1 = 1\n",
    "    fibn_2 = 0\n",
    "    while True:\n",
    "        # fib(n) = fin(n-1) + fib(n-2)\n",
    "        next = fibn_1 + fibn_2\n",
    "        yield next\n",
    "        fibn_2 = fibn_1\n",
    "        fibn_1 = next"
   ]
  },
  {
   "cell_type": "code",
   "execution_count": 294,
   "metadata": {},
   "outputs": [],
   "source": [
    "fib = genFib()"
   ]
  },
  {
   "cell_type": "code",
   "execution_count": 272,
   "metadata": {
    "scrolled": true
   },
   "outputs": [
    {
     "data": {
      "text/plain": [
       "8"
      ]
     },
     "execution_count": 272,
     "metadata": {},
     "output_type": "execute_result"
    }
   ],
   "source": [
    "fib.__next__()"
   ]
  },
  {
   "cell_type": "code",
   "execution_count": 295,
   "metadata": {},
   "outputs": [
    {
     "name": "stdout",
     "output_type": "stream",
     "text": [
      "144\n"
     ]
    }
   ],
   "source": [
    "n = 1\n",
    "for e in fib:\n",
    "    n+=1\n",
    "    if n==12:\n",
    "        print(e)\n",
    "        break"
   ]
  },
  {
   "cell_type": "code",
   "execution_count": 213,
   "metadata": {},
   "outputs": [],
   "source": [
    "class Grades(object):\n",
    "    \"\"\"A mapping from students to a list of grades\"\"\"\n",
    "    def __init__(self):\n",
    "        \"\"\"Create empty grade book\"\"\"\n",
    "        self.students = [] # list of students\n",
    "        self.grades = {} # idNum -> list of grades\n",
    "        self.isSorted = True\n",
    "    \n",
    "    def addStudent(self, student):\n",
    "        \"\"\"Assumes: student is of type Student\n",
    "           Add student to the grade book\"\"\"\n",
    "        if student in self.students:\n",
    "            raise ValueError('Duplicate student')\n",
    "        self.students.append(student)\n",
    "        self.grades[student.getIdNum()] = []\n",
    "        self.sorted = False\n",
    "    \n",
    "    def addGrade(self, student, grade):\n",
    "        \"\"\"Assumes: grade is a float\n",
    "           Add grade to the list of grades for students\"\"\"\n",
    "        try:\n",
    "            self.grades[student.getIdNum()].append(grade)\n",
    "        except:\n",
    "            raise ValueError('Student not in grade book')\n",
    "        \n",
    "    def getGrades(self, student):\n",
    "        \"\"\"Return a list of grades for student\"\"\"\n",
    "        try:\n",
    "            return self.grades[student.getIdNum()][:]\n",
    "        except:\n",
    "            raise ValueError('Student not in grade book')\n",
    "    \n",
    "    def allStudents(self):\n",
    "        \"\"\"Return the students in the grade book on at a time\n",
    "           in alphabetical order\"\"\"\n",
    "        if not self.isSorted:\n",
    "            self.studets.sort()\n",
    "            self.isSorted = True\n",
    "        for s in self.students:\n",
    "            yield s"
   ]
  },
  {
   "cell_type": "code",
   "execution_count": 214,
   "metadata": {},
   "outputs": [
    {
     "name": "stdout",
     "output_type": "stream",
     "text": [
      "Julie\n",
      "Charlie\n",
      "<generator object Grades.allStudents at 0x000001D593CDEE58>\n"
     ]
    }
   ],
   "source": [
    "book = Grades()\n",
    "book.addStudent(Grad('Julie'))\n",
    "book.addStudent(Grad('Charlie'))\n",
    "for s in book.allStudents():\n",
    "    print(s)\n",
    "print(book.allStudents())"
   ]
  },
  {
   "cell_type": "code",
   "execution_count": 311,
   "metadata": {},
   "outputs": [],
   "source": [
    "def genPrimes():\n",
    "    yield 2\n",
    "    n = 3\n",
    "    while True:\n",
    "        prime = True\n",
    "        for num in range(2,n):\n",
    "            if n % num == 0:\n",
    "                prime = False\n",
    "                n += 1\n",
    "                break\n",
    "        if prime:\n",
    "            yield n\n",
    "            n += 1"
   ]
  },
  {
   "cell_type": "code",
   "execution_count": 312,
   "metadata": {},
   "outputs": [],
   "source": [
    "prime = genPrimes()"
   ]
  },
  {
   "cell_type": "code",
   "execution_count": 321,
   "metadata": {},
   "outputs": [
    {
     "data": {
      "text/plain": [
       "23"
      ]
     },
     "execution_count": 321,
     "metadata": {},
     "output_type": "execute_result"
    }
   ],
   "source": [
    "prime.__next__()"
   ]
  },
  {
   "cell_type": "markdown",
   "metadata": {},
   "source": [
    "### Invisible Information"
   ]
  },
  {
   "cell_type": "code",
   "execution_count": 200,
   "metadata": {},
   "outputs": [],
   "source": [
    "class infoHiding(object):\n",
    "    def __init__(self):\n",
    "        self.visible = 'Look at me'\n",
    "        self.__alsoVisible__ = 'Look at me too'\n",
    "        self.__invisible = 'Don\\'t look at me directly'\n",
    "        \n",
    "    def printVisible(self):\n",
    "        print(self.visible)\n",
    "    \n",
    "    def printInvisible(self):\n",
    "        print(self.__invisible)\n",
    "    \n",
    "    def __printInvisible(self):\n",
    "        print(self.__invisible)\n",
    "    \n",
    "    def __printInvisible__(self):\n",
    "        print(self.__invisible)"
   ]
  },
  {
   "cell_type": "code",
   "execution_count": 201,
   "metadata": {},
   "outputs": [
    {
     "name": "stdout",
     "output_type": "stream",
     "text": [
      "Look at me\n",
      "Look at me too\n"
     ]
    },
    {
     "ename": "AttributeError",
     "evalue": "'infoHiding' object has no attribute '__invisible'",
     "output_type": "error",
     "traceback": [
      "\u001b[1;31m---------------------------------------------------------------------------\u001b[0m",
      "\u001b[1;31mAttributeError\u001b[0m                            Traceback (most recent call last)",
      "\u001b[1;32m<ipython-input-201-e6f2c520afe5>\u001b[0m in \u001b[0;36m<module>\u001b[1;34m\u001b[0m\n\u001b[0;32m      2\u001b[0m \u001b[0mprint\u001b[0m\u001b[1;33m(\u001b[0m\u001b[0mtest\u001b[0m\u001b[1;33m.\u001b[0m\u001b[0mvisible\u001b[0m\u001b[1;33m)\u001b[0m\u001b[1;33m\u001b[0m\u001b[1;33m\u001b[0m\u001b[0m\n\u001b[0;32m      3\u001b[0m \u001b[0mprint\u001b[0m\u001b[1;33m(\u001b[0m\u001b[0mtest\u001b[0m\u001b[1;33m.\u001b[0m\u001b[0m__alsoVisible__\u001b[0m\u001b[1;33m)\u001b[0m\u001b[1;33m\u001b[0m\u001b[1;33m\u001b[0m\u001b[0m\n\u001b[1;32m----> 4\u001b[1;33m \u001b[0mprint\u001b[0m\u001b[1;33m(\u001b[0m\u001b[0mtest\u001b[0m\u001b[1;33m.\u001b[0m\u001b[0m__invisible\u001b[0m\u001b[1;33m)\u001b[0m\u001b[1;33m\u001b[0m\u001b[1;33m\u001b[0m\u001b[0m\n\u001b[0m",
      "\u001b[1;31mAttributeError\u001b[0m: 'infoHiding' object has no attribute '__invisible'"
     ]
    }
   ],
   "source": [
    "test = infoHiding()\n",
    "print(test.visible)\n",
    "print(test.__alsoVisible__)\n",
    "print(test.__invisible)"
   ]
  },
  {
   "cell_type": "code",
   "execution_count": 202,
   "metadata": {
    "scrolled": true
   },
   "outputs": [
    {
     "name": "stdout",
     "output_type": "stream",
     "text": [
      "Don't look at me directly\n",
      "Don't look at me directly\n"
     ]
    },
    {
     "ename": "AttributeError",
     "evalue": "'infoHiding' object has no attribute '__printInvisible'",
     "output_type": "error",
     "traceback": [
      "\u001b[1;31m---------------------------------------------------------------------------\u001b[0m",
      "\u001b[1;31mAttributeError\u001b[0m                            Traceback (most recent call last)",
      "\u001b[1;32m<ipython-input-202-75c1a3b1a848>\u001b[0m in \u001b[0;36m<module>\u001b[1;34m\u001b[0m\n\u001b[0;32m      2\u001b[0m \u001b[0mtest\u001b[0m\u001b[1;33m.\u001b[0m\u001b[0mprintInvisible\u001b[0m\u001b[1;33m(\u001b[0m\u001b[1;33m)\u001b[0m\u001b[1;33m\u001b[0m\u001b[1;33m\u001b[0m\u001b[0m\n\u001b[0;32m      3\u001b[0m \u001b[0mtest\u001b[0m\u001b[1;33m.\u001b[0m\u001b[0m__printInvisible__\u001b[0m\u001b[1;33m(\u001b[0m\u001b[1;33m)\u001b[0m\u001b[1;33m\u001b[0m\u001b[1;33m\u001b[0m\u001b[0m\n\u001b[1;32m----> 4\u001b[1;33m \u001b[0mtest\u001b[0m\u001b[1;33m.\u001b[0m\u001b[0m__printInvisible\u001b[0m\u001b[1;33m(\u001b[0m\u001b[1;33m)\u001b[0m\u001b[1;33m\u001b[0m\u001b[1;33m\u001b[0m\u001b[0m\n\u001b[0m",
      "\u001b[1;31mAttributeError\u001b[0m: 'infoHiding' object has no attribute '__printInvisible'"
     ]
    }
   ],
   "source": [
    "test = infoHiding()\n",
    "test.printInvisible()\n",
    "test.__printInvisible__()\n",
    "test.__printInvisible()"
   ]
  },
  {
   "cell_type": "code",
   "execution_count": 203,
   "metadata": {},
   "outputs": [],
   "source": [
    "class subClass(infoHiding):\n",
    "    def newPrintInvisible(self):\n",
    "        print(self.__invisible)"
   ]
  },
  {
   "cell_type": "code",
   "execution_count": 204,
   "metadata": {
    "scrolled": true
   },
   "outputs": [
    {
     "ename": "AttributeError",
     "evalue": "'subClass' object has no attribute '_subClass__invisible'",
     "output_type": "error",
     "traceback": [
      "\u001b[1;31m---------------------------------------------------------------------------\u001b[0m",
      "\u001b[1;31mAttributeError\u001b[0m                            Traceback (most recent call last)",
      "\u001b[1;32m<ipython-input-204-a20d3cb5c6eb>\u001b[0m in \u001b[0;36m<module>\u001b[1;34m\u001b[0m\n\u001b[0;32m      1\u001b[0m \u001b[0mtestSub\u001b[0m \u001b[1;33m=\u001b[0m \u001b[0msubClass\u001b[0m\u001b[1;33m(\u001b[0m\u001b[1;33m)\u001b[0m\u001b[1;33m\u001b[0m\u001b[1;33m\u001b[0m\u001b[0m\n\u001b[1;32m----> 2\u001b[1;33m \u001b[0mtestSub\u001b[0m\u001b[1;33m.\u001b[0m\u001b[0mnewPrintInvisible\u001b[0m\u001b[1;33m(\u001b[0m\u001b[1;33m)\u001b[0m\u001b[1;33m\u001b[0m\u001b[1;33m\u001b[0m\u001b[0m\n\u001b[0m",
      "\u001b[1;32m<ipython-input-203-ffc0b7036c6f>\u001b[0m in \u001b[0;36mnewPrintInvisible\u001b[1;34m(self)\u001b[0m\n\u001b[0;32m      1\u001b[0m \u001b[1;32mclass\u001b[0m \u001b[0msubClass\u001b[0m\u001b[1;33m(\u001b[0m\u001b[0minfoHiding\u001b[0m\u001b[1;33m)\u001b[0m\u001b[1;33m:\u001b[0m\u001b[1;33m\u001b[0m\u001b[1;33m\u001b[0m\u001b[0m\n\u001b[0;32m      2\u001b[0m     \u001b[1;32mdef\u001b[0m \u001b[0mnewPrintInvisible\u001b[0m\u001b[1;33m(\u001b[0m\u001b[0mself\u001b[0m\u001b[1;33m)\u001b[0m\u001b[1;33m:\u001b[0m\u001b[1;33m\u001b[0m\u001b[1;33m\u001b[0m\u001b[0m\n\u001b[1;32m----> 3\u001b[1;33m         \u001b[0mprint\u001b[0m\u001b[1;33m(\u001b[0m\u001b[0mself\u001b[0m\u001b[1;33m.\u001b[0m\u001b[0m__invisible\u001b[0m\u001b[1;33m)\u001b[0m\u001b[1;33m\u001b[0m\u001b[1;33m\u001b[0m\u001b[0m\n\u001b[0m",
      "\u001b[1;31mAttributeError\u001b[0m: 'subClass' object has no attribute '_subClass__invisible'"
     ]
    }
   ],
   "source": [
    "testSub = subClass()\n",
    "testSub.newPrintInvisible()"
   ]
  }
 ],
 "metadata": {
  "kernelspec": {
   "display_name": "Python 3",
   "language": "python",
   "name": "python3"
  },
  "language_info": {
   "codemirror_mode": {
    "name": "ipython",
    "version": 3
   },
   "file_extension": ".py",
   "mimetype": "text/x-python",
   "name": "python",
   "nbconvert_exporter": "python",
   "pygments_lexer": "ipython3",
   "version": "3.7.3"
  }
 },
 "nbformat": 4,
 "nbformat_minor": 2
}

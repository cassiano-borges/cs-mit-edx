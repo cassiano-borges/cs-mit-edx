{
 "cells": [
  {
   "cell_type": "markdown",
   "metadata": {},
   "source": [
    "# Chapter 7\n",
    "***\n",
    "\n",
    "## Exceptions and Assertions"
   ]
  },
  {
   "cell_type": "markdown",
   "metadata": {},
   "source": [
    "- **SyntaxError** - Python can't parse program\n",
    "- **NameError** - local or global name not found\n",
    "- **AttributeError** - attribute reference fail\n",
    "- **TypeError** - operand doesn't have correct type\n",
    "- **ValueError** - operand type okay, but value is illegal\n",
    "- **IOError** - IO system reports malfunction (e.g. file not found)\n",
    "- **ZeroDivisionError**"
   ]
  },
  {
   "cell_type": "markdown",
   "metadata": {},
   "source": [
    "***\n",
    "### try/except\n",
    "**else** is executed if completes with no exceptions<br>\n",
    "**finally** is always executed"
   ]
  },
  {
   "cell_type": "code",
   "execution_count": 3,
   "metadata": {},
   "outputs": [
    {
     "name": "stdout",
     "output_type": "stream",
     "text": [
      "Tell me one number: 2\n",
      "Tell me another number: a\n",
      "Bug in user input.\n",
      "Outside\n"
     ]
    }
   ],
   "source": [
    "try:\n",
    "    a = int(input(\"Tell me one number: \"))\n",
    "    b = int(input(\"Tell me another number: \"))\n",
    "    print(a/b)\n",
    "    print(\"Okay\")\n",
    "except ValueError:\n",
    "    print(\"Could not convert to a number.\")\n",
    "except ZeroDivisionError:\n",
    "    print(\"Can't divide by zero.\")\n",
    "except:\n",
    "    print(\"Something went very wrong.\")\n",
    "print(\"Outside\")"
   ]
  },
  {
   "cell_type": "code",
   "execution_count": 13,
   "metadata": {},
   "outputs": [
    {
     "name": "stdout",
     "output_type": "stream",
     "text": [
      "Please enter an integer: NAN\n",
      "Input not an integer; try again\n",
      "Please enter an integer: nan\n",
      "Input not an integer; try again\n",
      "Please enter an integer: 3\n",
      "Correct input of an integer!\n"
     ]
    }
   ],
   "source": [
    "while True:\n",
    "    try:\n",
    "        n = input(\"Please enter an integer: \")\n",
    "        n = int(n)\n",
    "        break\n",
    "    except ValueError:\n",
    "            print(\"Input not an integer; try again\")\n",
    "print(\"Correct input of an integer!\")"
   ]
  },
  {
   "cell_type": "code",
   "execution_count": 24,
   "metadata": {},
   "outputs": [
    {
     "name": "stdout",
     "output_type": "stream",
     "text": [
      "Provide a name of a file of datas\n",
      "cannot open s\n",
      "[]\n"
     ]
    }
   ],
   "source": [
    "data = []\n",
    "file_name = input(\"Provide a name of a file of data\")\n",
    "\n",
    "try:\n",
    "    fh = open(file_name, 'r')\n",
    "except IOError:\n",
    "    print('cannot open', file_name)\n",
    "else:\n",
    "    for new in fh:\n",
    "        if new != '\\n':\n",
    "            addIt = new[:-1].split(',')\n",
    "            data.append(addIt)\n",
    "    fh.close()\n",
    "print(data)"
   ]
  },
  {
   "attachments": {},
   "cell_type": "markdown",
   "metadata": {},
   "source": [
    "***\n",
    "### raise\n",
    "- raise exceptionName(argument)"
   ]
  },
  {
   "cell_type": "code",
   "execution_count": 32,
   "metadata": {},
   "outputs": [
    {
     "data": {
      "text/plain": [
       "[0.2, 0.3333333333333333, 0.42857142857142855, nan]"
      ]
     },
     "execution_count": 32,
     "metadata": {},
     "output_type": "execute_result"
    }
   ],
   "source": [
    "def get_ratios(L1, L2):\n",
    "    \"\"\"Assumes: L1 and L2 are lists of equal length of numbers\n",
    "       Returns: a list containing L1[i]/L2[i]\"\"\"\n",
    "    ratios = []\n",
    "    for index in range(len(L1)):\n",
    "        try:\n",
    "            ratios.append(L1[index]/float(L2[index]))\n",
    "        except ZeroDivisionError:\n",
    "            ratios.append(float('NaN'))\n",
    "        except:\n",
    "            raise ValueError('get_ratios called with bad arg')\n",
    "    return ratios\n",
    "\n",
    "L1 = [1,2,3,4]\n",
    "L2 = [5,6,7,0]\n",
    "get_ratios(L1,L2)"
   ]
  },
  {
   "cell_type": "markdown",
   "metadata": {},
   "source": [
    "_exercise_"
   ]
  },
  {
   "cell_type": "code",
   "execution_count": 44,
   "metadata": {},
   "outputs": [
    {
     "data": {
      "text/plain": [
       "[0, 0, 0]"
      ]
     },
     "execution_count": 44,
     "metadata": {},
     "output_type": "execute_result"
    }
   ],
   "source": [
    "def fancy_divide(list_of_numbers, index):\n",
    "    denom = list_of_numbers[index]\n",
    "    return [simple_divide(item, denom) for item in list_of_numbers]\n",
    "\n",
    "\n",
    "def simple_divide(item, denom):\n",
    "    try:\n",
    "        return item / denom\n",
    "    except ZeroDivisionError:\n",
    "        return 0\n",
    "\n",
    "fancy_divide([0, 2, 4], 0)"
   ]
  },
  {
   "cell_type": "markdown",
   "metadata": {},
   "source": [
    "***\n",
    "### assertion\n",
    "\n",
    "- example of **_defensive programming_**.\n",
    "- used to check inputs to function procedures\n",
    "- used to check outputs\n",
    "- supplement to testing\n",
    "- use to:\n",
    "    - check types\n",
    "    - invariants\n",
    "    - constraints\n",
    "    - violations\n",
    "- _pre condition_\n",
    "- _post condition_"
   ]
  },
  {
   "cell_type": "code",
   "execution_count": 53,
   "metadata": {},
   "outputs": [],
   "source": [
    "def avg(grades):\n",
    "    assert not len(grades) == 0, 'no grades data'   # pre condition\n",
    "    return sum(grades) / len(grades)                # post condition"
   ]
  },
  {
   "cell_type": "code",
   "execution_count": null,
   "metadata": {},
   "outputs": [],
   "source": [
    "def normalize(numbers):\n",
    "    max_number = max(numbers)\n",
    "    for i in range(len(numbers)):\n",
    "        numbers[i] /= float(max_number)\n",
    "    return numbers  "
   ]
  }
 ],
 "metadata": {
  "kernelspec": {
   "display_name": "Python 3",
   "language": "python",
   "name": "python3"
  },
  "language_info": {
   "codemirror_mode": {
    "name": "ipython",
    "version": 3
   },
   "file_extension": ".py",
   "mimetype": "text/x-python",
   "name": "python",
   "nbconvert_exporter": "python",
   "pygments_lexer": "ipython3",
   "version": "3.7.3"
  }
 },
 "nbformat": 4,
 "nbformat_minor": 2
}

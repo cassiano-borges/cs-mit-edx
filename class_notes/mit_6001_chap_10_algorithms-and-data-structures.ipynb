{
 "cells": [
  {
   "cell_type": "markdown",
   "metadata": {},
   "source": [
    "# Chapter 10\n",
    "***\n",
    "\n",
    "## Some simple Algorithms and Data Structure"
   ]
  },
  {
   "cell_type": "markdown",
   "metadata": {},
   "source": [
    "__Linear Search__\n",
    "- Brute force\n",
    "- does not have to be sorted\n",
    "\n",
    "__Bisection Search__\n",
    "- the list must be sorted"
   ]
  },
  {
   "cell_type": "markdown",
   "metadata": {},
   "source": [
    "***\n",
    "**Takeaway**\n",
    "\n",
    "Increase the complexity of the code to decrease the overall order of growth (computational complexity).\n",
    "***"
   ]
  },
  {
   "cell_type": "code",
   "execution_count": 1,
   "metadata": {},
   "outputs": [],
   "source": [
    "def search(L, e):\n",
    "    \"\"\"Assumes L is a list.\n",
    "       Returns True if e is in L and False otherwise\"\"\""
   ]
  },
  {
   "cell_type": "markdown",
   "metadata": {},
   "source": [
    "### Linear Search\n",
    "wrapper function"
   ]
  },
  {
   "cell_type": "code",
   "execution_count": 2,
   "metadata": {},
   "outputs": [],
   "source": [
    "# O(len(L))\n",
    "# have to look through all of elements\n",
    "def search(L, e):\n",
    "    \"\"\"Assumes L is a list.\n",
    "       Returns True if e is in L and False otherwise\"\"\"\n",
    "    for i in range(len(L)):\n",
    "        if L[i] == e:\n",
    "            return True\n",
    "        return False"
   ]
  },
  {
   "cell_type": "code",
   "execution_count": 3,
   "metadata": {},
   "outputs": [],
   "source": [
    "# linear search on a sorted list\n",
    "def search(L, e):\n",
    "    \"\"\"Assumes L is a list, the elements of which are in\n",
    "          ascending order\n",
    "       Returns True if e is in L and False otherwise\"\"\"\n",
    "    for i in range(len(L)):\n",
    "        if L[i] == e:\n",
    "            return True\n",
    "        if L[i] > e: # stops with is bigger than the element of search\n",
    "            return False\n",
    "    return False"
   ]
  },
  {
   "cell_type": "markdown",
   "metadata": {},
   "source": [
    "***\n",
    "### Bisection Search\n",
    "\n",
    "$$1 = \\frac{n}{2^i} \\to n = 2^i \\to i = log_2(n)$$\n",
    "\n",
    "$1 \\to $ list of len 1\n",
    "\n",
    "$n \\to $ len of the list\n",
    "\n",
    "$i \\to i^{th}$ element where list is of len 1\n",
    "\n",
    "**when sorting is convenient:**\n",
    "\n",
    "$SORT + K\\times O(log(n)) < K \\times O(n)$\n",
    "\n",
    "$k \\to$ number of searches"
   ]
  },
  {
   "cell_type": "code",
   "execution_count": 33,
   "metadata": {},
   "outputs": [],
   "source": [
    "# O(n*log(n))\n",
    "# make a copy of list and is a cost of n\n",
    "def bisect_search1(L, e):\n",
    "    if L == []:\n",
    "        return False\n",
    "    elif len(L) == 1:\n",
    "        return L[0] == e\n",
    "    else:\n",
    "        half = len(L)//2\n",
    "        if L[half] > e:\n",
    "            return bisect_search1(L[:half], e) # makes a copy of half of the list\n",
    "        else:\n",
    "            return bisect_search1(L[half:], e)"
   ]
  },
  {
   "cell_type": "code",
   "execution_count": 35,
   "metadata": {},
   "outputs": [
    {
     "data": {
      "text/plain": [
       "False"
      ]
     },
     "execution_count": 35,
     "metadata": {},
     "output_type": "execute_result"
    }
   ],
   "source": [
    "testList = [1,2,3,5,7,9,18,27]\n",
    "bisect_search1(testList, 15)"
   ]
  },
  {
   "cell_type": "code",
   "execution_count": 4,
   "metadata": {},
   "outputs": [],
   "source": [
    "# Recursive binary search (more efficient)\n",
    "# wrapper function\n",
    "# list is never copied\n",
    "#  1 = n/2^i --> n = 2^i --> i = log2(n)\n",
    "# O(log(n)) where n is len(L)\n",
    "def search(L, e):\n",
    "    \"\"\"Assumes L is a list, the elements of which are in\n",
    "          ascending order\n",
    "       Returns True if e is in L and False otherwise\"\"\"\n",
    "    \n",
    "    def bSearch(L, e, low, high):\n",
    "        # decrements high - low\n",
    "        if high == low:\n",
    "            return L[low] == e\n",
    "        mid = (low + high) // 2\n",
    "        if L[mid] == e:\n",
    "            return True\n",
    "        elif L[mid] > e:\n",
    "            if low == mid: # nothing lefto to search\n",
    "                return False\n",
    "            else:\n",
    "                return bSearch(L, e, low, mid - 1)\n",
    "        else:\n",
    "            return bSearch(L, e, mid+1, high)\n",
    "\n",
    "    if len(L) == 0:\n",
    "        return False\n",
    "    else:\n",
    "        return bSearch(L, e, 0, len(L) - 1)"
   ]
  },
  {
   "cell_type": "code",
   "execution_count": 38,
   "metadata": {},
   "outputs": [
    {
     "data": {
      "text/plain": [
       "True"
      ]
     },
     "execution_count": 38,
     "metadata": {},
     "output_type": "execute_result"
    }
   ],
   "source": [
    "testList = [1,2,3,5,7,9,18,27]\n",
    "search(testList, 9)"
   ]
  },
  {
   "cell_type": "code",
   "execution_count": 5,
   "metadata": {},
   "outputs": [],
   "source": [
    "# Selection Sort\n",
    "# O(len(L)^2) Quadratic\n",
    "def selSort(L):\n",
    "    \"\"\"Assumes that L is a list of elements that can be\n",
    "          compared using >.\n",
    "       Sorts L is ascending order\"\"\"\n",
    "    suffixStart = 0\n",
    "    while suffixStart != len(L): # O(len(L))\n",
    "        # look at each element in suffix\n",
    "        for i in range(suffixStart, len(L)): # O(len(L))\n",
    "            if L[i] < L[suffixStart]:\n",
    "                # swap position of elements\n",
    "                L[suffixStart], L[i] = L[i], L[suffixStart]\n",
    "        suffixStart += 1"
   ]
  },
  {
   "cell_type": "code",
   "execution_count": 16,
   "metadata": {},
   "outputs": [],
   "source": [
    "# Merge Sort\n",
    "# O(nlog(n)) where n is len(L)\n",
    "\n",
    "# O(len(L)) -> L is the bigger list\n",
    "def merge(left, right, compare):\n",
    "    \"\"\"Assumes left and right are sorted lists and\n",
    "         compare defines an ordering on the elements.\n",
    "       Returns a new sorted (by compare) list containing the\n",
    "         same elements as (left + right) would contain.\"\"\"\n",
    "    result = []\n",
    "    i, j = 0, 0\n",
    "    while i < len(left) and j < len(right):\n",
    "        if compare(left[i], right[j]):\n",
    "            result.append(left[i])\n",
    "            i += 1\n",
    "        else:\n",
    "            result.append(right[j])\n",
    "            j += 1\n",
    "    while (i < len(left)):\n",
    "        result.append(left[i])\n",
    "        i += 1\n",
    "    while (j < len(right)):\n",
    "        result.append(right[j])\n",
    "        j += 1\n",
    "    return result\n",
    "\n",
    "# O(nlog(n)) where n is len(L)\n",
    "def mergeSort(L, compare = lambda x, y: x < y):\n",
    "    \"\"\"Assumes L is a list, compare defines an ordering\n",
    "         on elements of L\n",
    "       Return a new sorted list with the same elements as L\"\"\"\n",
    "    if len(L) < 2:\n",
    "        return L[:]\n",
    "    else:\n",
    "        middle = len(L) // 2\n",
    "        left = mergeSort(L[:middle], compare)\n",
    "        right = mergeSort(L[middle:], compare)\n",
    "        return merge(left, right, compare)"
   ]
  },
  {
   "cell_type": "code",
   "execution_count": 17,
   "metadata": {},
   "outputs": [
    {
     "name": "stdout",
     "output_type": "stream",
     "text": [
      "[1, 2, 3, 4, 5] [5, 4, 3, 2, 1]\n"
     ]
    }
   ],
   "source": [
    "L = [2,1,4,5,3]\n",
    "print(mergeSort(L), mergeSort(L, lambda x, y: x > y))"
   ]
  },
  {
   "cell_type": "code",
   "execution_count": 20,
   "metadata": {},
   "outputs": [
    {
     "name": "stdout",
     "output_type": "stream",
     "text": [
      "Sorted last name = ['Tom Brady', 'Gisele Bundchen', 'Eric Grimson']\n",
      "Sorted first name = ['Eric Grimson', 'Gisele Bundchen', 'Tom Brady']\n"
     ]
    }
   ],
   "source": [
    "def lastNameFirstName(name1, name2):\n",
    "    arg1 = name1.split(' ')\n",
    "    arg2 = name2.split(' ')\n",
    "    if arg1[1] != arg2[1]:\n",
    "        return arg1[1] < arg2[1]\n",
    "    else: # last name the same, sort by first name\n",
    "        return arg1[0] < arg2[0]\n",
    "\n",
    "def firstNameLastName(name1, name2):\n",
    "    arg1 = name1.split(' ')\n",
    "    arg2 = name2.split(' ')\n",
    "    if arg1[0] != arg2[0]:\n",
    "        return arg1[0] < arg2[0]\n",
    "    else: # first names the same, sort by last name\n",
    "        return arg1[1] < arg2[1]\n",
    "\n",
    "L = ['Tom Brady', 'Eric Grimson', 'Gisele Bundchen']\n",
    "newL = mergeSort(L, lastNameFirstName)\n",
    "print('Sorted last name =', newL)\n",
    "newL = mergeSort(L, firstNameLastName)\n",
    "print('Sorted first name =', newL)"
   ]
  },
  {
   "cell_type": "code",
   "execution_count": 26,
   "metadata": {
    "scrolled": true
   },
   "outputs": [
    {
     "name": "stdout",
     "output_type": "stream",
     "text": [
      "[2, 3, 5]\n",
      "[3, 5, 2]\n",
      "[2, 3, 5]\n",
      "['a', 'b', 'c']\n"
     ]
    }
   ],
   "source": [
    "L = [3,5,2]\n",
    "D = {'a': 12, 'c': 5, 'b': 'dog'}\n",
    "print(sorted(L))\n",
    "print(L)\n",
    "L.sort()\n",
    "print(L)\n",
    "print(sorted(D))\n",
    "# D.sort() - Attribute Error"
   ]
  },
  {
   "cell_type": "code",
   "execution_count": 27,
   "metadata": {},
   "outputs": [
    {
     "name": "stdout",
     "output_type": "stream",
     "text": [
      "[(3, 2, 1, 0), [1, 2, 3], 'abc']\n"
     ]
    }
   ],
   "source": [
    "# sorts the element of L in reverse order of length and prints\n",
    "L = [[1,2,3], (3,2,1,0), 'abc']\n",
    "print(sorted(L, key=len, reverse=True))"
   ]
  },
  {
   "cell_type": "code",
   "execution_count": 40,
   "metadata": {},
   "outputs": [
    {
     "name": "stdout",
     "output_type": "stream",
     "text": [
      "0\n"
     ]
    }
   ],
   "source": [
    "num = 0\n",
    "L = [5, 0, 2, 4, 6, 3, 1]\n",
    "val = 0\n",
    "for i in range(0, num):\n",
    "    val = L[L[val]]\n",
    "\n",
    "print(val)"
   ]
  },
  {
   "cell_type": "code",
   "execution_count": null,
   "metadata": {},
   "outputs": [],
   "source": [
    "def foo(L):\n",
    "    val = L[0]\n",
    "    while (True):\n",
    "        val = L[val]"
   ]
  },
  {
   "cell_type": "code",
   "execution_count": 46,
   "metadata": {},
   "outputs": [],
   "source": [
    "for i in range(len([])):\n",
    "    print(i)"
   ]
  },
  {
   "cell_type": "code",
   "execution_count": 47,
   "metadata": {},
   "outputs": [],
   "source": [
    "def search(L, e):\n",
    "    for i in range(len(L)):\n",
    "        if L[i] == e:\n",
    "            return True\n",
    "        if L[i] > e:\n",
    "            return False\n",
    "    return False"
   ]
  },
  {
   "cell_type": "code",
   "execution_count": 49,
   "metadata": {},
   "outputs": [],
   "source": [
    "def search1(L, e):\n",
    "    for i in L:\n",
    "        if i == e:\n",
    "            return True\n",
    "        if i > e:\n",
    "            return False\n",
    "    return False"
   ]
  },
  {
   "cell_type": "code",
   "execution_count": 68,
   "metadata": {},
   "outputs": [
    {
     "data": {
      "text/plain": [
       "False"
      ]
     },
     "execution_count": 68,
     "metadata": {},
     "output_type": "execute_result"
    }
   ],
   "source": [
    "search3([3,4,6],5)"
   ]
  },
  {
   "cell_type": "code",
   "execution_count": 69,
   "metadata": {},
   "outputs": [],
   "source": [
    "def search3(L, e):\n",
    "    if L[0] == e:\n",
    "        return True\n",
    "    elif L[0] > e:\n",
    "        return False\n",
    "    else:\n",
    "        return search3(L[1:], e)"
   ]
  },
  {
   "cell_type": "markdown",
   "metadata": {},
   "source": [
    "***\n",
    "### Monkey Sort\n",
    "bogosort, stupid sort, slowsort, permutation sort, shotgun sort"
   ]
  },
  {
   "cell_type": "code",
   "execution_count": 70,
   "metadata": {},
   "outputs": [],
   "source": [
    "# unbounded - random solution\n",
    "def bogo_sort(L):\n",
    "    while not is_sorted(L):\n",
    "        random.shuffle(L)"
   ]
  },
  {
   "cell_type": "markdown",
   "metadata": {},
   "source": [
    "***\n",
    "### Bubble sort\n",
    "- quadratic\n",
    "- compare consecutive pairs\n",
    "- swap elements\n",
    "- stop when no swaps have been mande"
   ]
  },
  {
   "cell_type": "code",
   "execution_count": 5,
   "metadata": {},
   "outputs": [],
   "source": [
    "def bubble_sort(L):\n",
    "    swap = False\n",
    "    while not swap: # O(len(L))\n",
    "        print('bubble sort: ' + str(L))\n",
    "        swap = True\n",
    "        for j in range(1, len(L)): # O(len(L))\n",
    "            if L[j-1] > L[j]:\n",
    "                swap = False\n",
    "                temp = L[j]\n",
    "                L[j] = L[j-1]\n",
    "                L[j-1] = temp\n",
    "    print(L)"
   ]
  },
  {
   "cell_type": "code",
   "execution_count": 6,
   "metadata": {
    "scrolled": true
   },
   "outputs": [
    {
     "name": "stdout",
     "output_type": "stream",
     "text": [
      "bubble sort: [2, 3, 1, 7, 10, 9, 5]\n",
      "bubble sort: [2, 1, 3, 7, 9, 5, 10]\n",
      "bubble sort: [1, 2, 3, 7, 5, 9, 10]\n",
      "bubble sort: [1, 2, 3, 5, 7, 9, 10]\n",
      "[1, 2, 3, 5, 7, 9, 10]\n"
     ]
    }
   ],
   "source": [
    "L = [2,3,1,7,10,9,5]\n",
    "bubble_sort(L)"
   ]
  },
  {
   "cell_type": "markdown",
   "metadata": {},
   "source": [
    "***\n",
    "### Selection sort\n",
    "- extract minimum element\n",
    "- swap it at element index 0\n",
    "- make sublists"
   ]
  },
  {
   "cell_type": "code",
   "execution_count": null,
   "metadata": {},
   "outputs": [],
   "source": [
    "# Selection Sort\n",
    "# O(len(L)^2) Quadratic\n",
    "def selSort(L):\n",
    "    \"\"\"Assumes that L is a list of elements that can be\n",
    "          compared using >.\n",
    "       Sorts L is ascending order\"\"\"\n",
    "    suffixStart = 0\n",
    "    while suffixStart != len(L): # O(len(L))\n",
    "        # look at each element in suffix\n",
    "        for i in range(suffixStart, len(L)): # O(len(L))\n",
    "            if L[i] < L[suffixStart]:\n",
    "                # swap position of elements\n",
    "                L[suffixStart], L[i] = L[i], L[suffixStart]\n",
    "        suffixStart += 1"
   ]
  },
  {
   "cell_type": "markdown",
   "metadata": {},
   "source": [
    "***\n",
    "### Merge Sort\n",
    "- split into two list and then sort each\n",
    "- merge the sorted lists"
   ]
  },
  {
   "cell_type": "code",
   "execution_count": 18,
   "metadata": {},
   "outputs": [],
   "source": [
    "# Merge Sort\n",
    "# O(nlog(n)) where n is len(L)\n",
    "\n",
    "# O(len(L)) -> L is the bigger list\n",
    "def merge(left, right, compare):\n",
    "    \"\"\"Assumes left and right are sorted lists and\n",
    "         compare defines an ordering on the elements.\n",
    "       Returns a new sorted (by compare) list containing the\n",
    "         same elements as (left + right) would contain.\"\"\"\n",
    "    result = []\n",
    "    i, j = 0, 0\n",
    "    while i < len(left) and j < len(right):\n",
    "        if compare(left[i], right[j]):\n",
    "            print(left[i], right[j])\n",
    "            result.append(left[i])\n",
    "            print('result', result)\n",
    "            i += 1\n",
    "        else:\n",
    "            print(left[i], right[j])\n",
    "            result.append(right[j])\n",
    "            print('result', result)\n",
    "            j += 1\n",
    "    while (i < len(left)):\n",
    "        result.append(left[i])\n",
    "        i += 1\n",
    "    while (j < len(right)):\n",
    "        result.append(right[j])\n",
    "        j += 1\n",
    "    return result\n",
    "\n",
    "# O(nlog(n)) where n is len(L)\n",
    "def mergeSort(L, compare = lambda x, y: x < y):\n",
    "    \"\"\"Assumes L is a list, compare defines an ordering\n",
    "         on elements of L\n",
    "       Return a new sorted list with the same elements as L\"\"\"\n",
    "    if len(L) < 2:\n",
    "        return L[:]\n",
    "    else:\n",
    "        middle = len(L) // 2\n",
    "        left = mergeSort(L[:middle], compare)\n",
    "        right = mergeSort(L[middle:], compare)\n",
    "        print(left,right)\n",
    "        return merge(left, right, compare)"
   ]
  },
  {
   "cell_type": "code",
   "execution_count": 19,
   "metadata": {},
   "outputs": [
    {
     "name": "stdout",
     "output_type": "stream",
     "text": [
      "[2] [3]\n",
      "2 3\n",
      "result [2]\n",
      "[1] [2, 3]\n",
      "1 2\n",
      "result [1]\n",
      "[5] [7]\n",
      "5 7\n",
      "result [5]\n",
      "[9] [10]\n",
      "9 10\n",
      "result [9]\n",
      "[5, 7] [9, 10]\n",
      "5 9\n",
      "result [5]\n",
      "7 9\n",
      "result [5, 7]\n",
      "[1, 2, 3] [5, 7, 9, 10]\n",
      "1 5\n",
      "result [1]\n",
      "2 5\n",
      "result [1, 2]\n",
      "3 5\n",
      "result [1, 2, 3]\n"
     ]
    },
    {
     "data": {
      "text/plain": [
       "[1, 2, 3, 5, 7, 9, 10]"
      ]
     },
     "execution_count": 19,
     "metadata": {},
     "output_type": "execute_result"
    }
   ],
   "source": [
    "mergeSort(L)"
   ]
  },
  {
   "cell_type": "code",
   "execution_count": 20,
   "metadata": {},
   "outputs": [],
   "source": [
    "def merge(left, right):\n",
    "    result = []\n",
    "    i,j = 0,0\n",
    "    while i < len(left) and j < len(right):\n",
    "        if left[i] < right[j]:\n",
    "            result.append(left[i])\n",
    "            i += 1\n",
    "        else:\n",
    "            result.append(right[j])\n",
    "            j += 1\n",
    "    while (i < len(left)):\n",
    "        result.append(left[i])\n",
    "        i += 1\n",
    "    while (j < len(right)):\n",
    "        result.append(right[j])\n",
    "        j += 1\n",
    "    print('merge: ' + str(left) + '&' + str(right) + ' to ' +str(result))\n",
    "    return result\n",
    "\n",
    "def merge_sort(L):\n",
    "    print('merge sort: ' + str(L))\n",
    "    if len(L) < 2:\n",
    "        return L[:]\n",
    "    else:\n",
    "        middle = len(L)//2\n",
    "        left = merge_sort(L[:middle])\n",
    "        right = merge_sort(L[middle:])\n",
    "        return merge(left, right)"
   ]
  },
  {
   "cell_type": "code",
   "execution_count": 21,
   "metadata": {},
   "outputs": [],
   "source": [
    "testList = [1,3,5,7,2,6,25,18,13]"
   ]
  },
  {
   "cell_type": "code",
   "execution_count": 22,
   "metadata": {},
   "outputs": [
    {
     "name": "stdout",
     "output_type": "stream",
     "text": [
      "merge sort: [1, 3, 5, 7, 2, 6, 25, 18, 13]\n",
      "merge sort: [1, 3, 5, 7]\n",
      "merge sort: [1, 3]\n",
      "merge sort: [1]\n",
      "merge sort: [3]\n",
      "merge: [1]&[3] to [1, 3]\n",
      "merge sort: [5, 7]\n",
      "merge sort: [5]\n",
      "merge sort: [7]\n",
      "merge: [5]&[7] to [5, 7]\n",
      "merge: [1, 3]&[5, 7] to [1, 3, 5, 7]\n",
      "merge sort: [2, 6, 25, 18, 13]\n",
      "merge sort: [2, 6]\n",
      "merge sort: [2]\n",
      "merge sort: [6]\n",
      "merge: [2]&[6] to [2, 6]\n",
      "merge sort: [25, 18, 13]\n",
      "merge sort: [25]\n",
      "merge sort: [18, 13]\n",
      "merge sort: [18]\n",
      "merge sort: [13]\n",
      "merge: [18]&[13] to [13, 18]\n",
      "merge: [25]&[13, 18] to [13, 18, 25]\n",
      "merge: [2, 6]&[13, 18, 25] to [2, 6, 13, 18, 25]\n",
      "merge: [1, 3, 5, 7]&[2, 6, 13, 18, 25] to [1, 2, 3, 5, 6, 7, 13, 18, 25]\n"
     ]
    },
    {
     "data": {
      "text/plain": [
       "[1, 2, 3, 5, 6, 7, 13, 18, 25]"
      ]
     },
     "execution_count": 22,
     "metadata": {},
     "output_type": "execute_result"
    }
   ],
   "source": [
    "merge_sort(testList)"
   ]
  },
  {
   "cell_type": "code",
   "execution_count": 30,
   "metadata": {},
   "outputs": [],
   "source": [
    "def recur(n):\n",
    "    print(n)\n",
    "    if n <= 0:\n",
    "        return 1\n",
    "    else:\n",
    "        return n*recur(n-1)"
   ]
  },
  {
   "cell_type": "code",
   "execution_count": 32,
   "metadata": {},
   "outputs": [
    {
     "name": "stdout",
     "output_type": "stream",
     "text": [
      "10\n",
      "9\n",
      "8\n",
      "7\n",
      "6\n",
      "5\n",
      "4\n",
      "3\n",
      "2\n",
      "1\n",
      "0\n"
     ]
    },
    {
     "data": {
      "text/plain": [
       "3628800"
      ]
     },
     "execution_count": 32,
     "metadata": {},
     "output_type": "execute_result"
    }
   ],
   "source": [
    "recur(10)"
   ]
  },
  {
   "cell_type": "code",
   "execution_count": 33,
   "metadata": {},
   "outputs": [],
   "source": [
    "def search(L, e):\n",
    "    for i in range(len(L)):\n",
    "        if L[i] == e:\n",
    "            return True\n",
    "        if L[i] > e:\n",
    "            return False\n",
    "    return False\n",
    "\n",
    "def newsearch(L, e):\n",
    "    size = len(L)\n",
    "    for i in range(size):\n",
    "        if L[size-i-1] == e:\n",
    "            return True\n",
    "        if L[i] < e:\n",
    "            return False\n",
    "    return False"
   ]
  },
  {
   "cell_type": "code",
   "execution_count": 49,
   "metadata": {},
   "outputs": [
    {
     "name": "stdout",
     "output_type": "stream",
     "text": [
      "True\n"
     ]
    },
    {
     "data": {
      "text/plain": [
       "False"
      ]
     },
     "execution_count": 49,
     "metadata": {},
     "output_type": "execute_result"
    }
   ],
   "source": [
    "n = 12\n",
    "L = [11, 12, 13]\n",
    "print(search(L, n))\n",
    "newsearch(L, n)"
   ]
  },
  {
   "cell_type": "code",
   "execution_count": 50,
   "metadata": {},
   "outputs": [],
   "source": [
    "def swapSort(L): \n",
    "    \"\"\" L is a list on integers \"\"\"\n",
    "    print(\"Original L: \", L)\n",
    "    for i in range(len(L)):\n",
    "        for j in range(i+1, len(L)):\n",
    "            if L[j] < L[i]:\n",
    "                # the next line is a short \n",
    "                # form for swap L[i] and L[j]\n",
    "                L[j], L[i] = L[i], L[j] \n",
    "                print(L)\n",
    "    print(\"Final L: \", L)"
   ]
  },
  {
   "cell_type": "code",
   "execution_count": 71,
   "metadata": {},
   "outputs": [],
   "source": [
    "def swapSort(L): \n",
    "    \"\"\" L is a list on integers \"\"\"\n",
    "    print(\"Original L: \", L)\n",
    "    for i in range(len(L)):\n",
    "        for j in range(i+1, len(L)):\n",
    "            if L[j] < L[i]:\n",
    "                # the next line is a short \n",
    "                # form for swap L[i] and L[j]\n",
    "                L[j], L[i] = L[i], L[j] \n",
    "            print(L)\n",
    "    print(\"Final L: \", L)"
   ]
  },
  {
   "cell_type": "code",
   "execution_count": 74,
   "metadata": {},
   "outputs": [
    {
     "name": "stdout",
     "output_type": "stream",
     "text": [
      "Original L:  [1]\n",
      "Final L:  [1]\n"
     ]
    }
   ],
   "source": [
    "L = [1]\n",
    "swapSort(L)"
   ]
  },
  {
   "cell_type": "code",
   "execution_count": 69,
   "metadata": {},
   "outputs": [],
   "source": [
    "def modSwapSort(L): \n",
    "    \"\"\" L is a list on integers \"\"\"\n",
    "    print(\"Original L: \", L)\n",
    "    for i in range(len(L)):\n",
    "        for j in range(len(L)):\n",
    "            if L[j] < L[i]:\n",
    "                # the next line is a short \n",
    "                # form for swap L[i] and L[j]\n",
    "                L[j], L[i] = L[i], L[j] \n",
    "                print(L)\n",
    "            print(L)\n",
    "    print(\"Final L: \", L)"
   ]
  },
  {
   "cell_type": "code",
   "execution_count": 76,
   "metadata": {},
   "outputs": [
    {
     "name": "stdout",
     "output_type": "stream",
     "text": [
      "Original L:  [1]\n",
      "[1]\n",
      "Final L:  [1]\n"
     ]
    }
   ],
   "source": [
    "L = [1]\n",
    "modSwapSort(L)"
   ]
  },
  {
   "cell_type": "code",
   "execution_count": null,
   "metadata": {},
   "outputs": [],
   "source": []
  }
 ],
 "metadata": {
  "kernelspec": {
   "display_name": "Python 3",
   "language": "python",
   "name": "python3"
  },
  "language_info": {
   "codemirror_mode": {
    "name": "ipython",
    "version": 3
   },
   "file_extension": ".py",
   "mimetype": "text/x-python",
   "name": "python",
   "nbconvert_exporter": "python",
   "pygments_lexer": "ipython3",
   "version": "3.7.3"
  }
 },
 "nbformat": 4,
 "nbformat_minor": 2
}

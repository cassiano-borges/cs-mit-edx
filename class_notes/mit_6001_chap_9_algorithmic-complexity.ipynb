{
 "cells": [
  {
   "cell_type": "markdown",
   "metadata": {},
   "source": [
    "# Chapter 9\n",
    "***\n",
    "\n",
    "## A simplistic introduction to Algorithmic Complexity"
   ]
  },
  {
   "cell_type": "markdown",
   "metadata": {},
   "source": [
    "$n \\to$ is the size of the inputs\n",
    "\n",
    "$O(1) \\to$ denotes **constant** running time\n",
    "\n",
    "$O(\\log n) \\to$ denotes **logarithmic** running time\n",
    "\n",
    "$O(n) \\to$ denotes **linear** running time\n",
    "\n",
    "$O(n \\log n) \\to$ denotes **log-linear** running time\n",
    "\n",
    "$O(n^k) \\to$ denotes **polynomial** running time. k is a constant\n",
    "\n",
    "$O(c^n) \\to$ denotes **exponential** running time. a constant is raised to a power based on the size of the input"
   ]
  },
  {
   "cell_type": "code",
   "execution_count": 57,
   "metadata": {},
   "outputs": [],
   "source": [
    "import pandas as pd\n",
    "import numpy as np\n",
    "n1 = 10\n",
    "n2 = 100\n",
    "n3 = 1000\n",
    "n4 = 1000000"
   ]
  },
  {
   "cell_type": "code",
   "execution_count": 58,
   "metadata": {},
   "outputs": [
    {
     "data": {
      "text/html": [
       "<div>\n",
       "<style scoped>\n",
       "    .dataframe tbody tr th:only-of-type {\n",
       "        vertical-align: middle;\n",
       "    }\n",
       "\n",
       "    .dataframe tbody tr th {\n",
       "        vertical-align: top;\n",
       "    }\n",
       "\n",
       "    .dataframe thead th {\n",
       "        text-align: right;\n",
       "    }\n",
       "</style>\n",
       "<table border=\"1\" class=\"dataframe\">\n",
       "  <thead>\n",
       "    <tr style=\"text-align: right;\">\n",
       "      <th></th>\n",
       "      <th>n = 10</th>\n",
       "      <th>n = 100</th>\n",
       "      <th>n = 1000</th>\n",
       "      <th>n = 1000000</th>\n",
       "    </tr>\n",
       "  </thead>\n",
       "  <tbody>\n",
       "    <tr>\n",
       "      <th>O(1)</th>\n",
       "      <td>1</td>\n",
       "      <td>1</td>\n",
       "      <td>1</td>\n",
       "      <td>1</td>\n",
       "    </tr>\n",
       "    <tr>\n",
       "      <th>O(log(n))</th>\n",
       "      <td>1</td>\n",
       "      <td>2</td>\n",
       "      <td>3</td>\n",
       "      <td>6</td>\n",
       "    </tr>\n",
       "    <tr>\n",
       "      <th>O(n)</th>\n",
       "      <td>10</td>\n",
       "      <td>100</td>\n",
       "      <td>1000</td>\n",
       "      <td>1000000</td>\n",
       "    </tr>\n",
       "    <tr>\n",
       "      <th>O(n log (n))</th>\n",
       "      <td>10</td>\n",
       "      <td>200</td>\n",
       "      <td>3000</td>\n",
       "      <td>6e+06</td>\n",
       "    </tr>\n",
       "    <tr>\n",
       "      <th>O(n^2)</th>\n",
       "      <td>100</td>\n",
       "      <td>10000</td>\n",
       "      <td>1000000</td>\n",
       "      <td>1000000000000</td>\n",
       "    </tr>\n",
       "    <tr>\n",
       "      <th>O(2^n)</th>\n",
       "      <td>1024</td>\n",
       "      <td>1267650600228229401496703205376</td>\n",
       "      <td>1071508607186267320948425049060001810561404811...</td>\n",
       "      <td>TOO BIG</td>\n",
       "    </tr>\n",
       "  </tbody>\n",
       "</table>\n",
       "</div>"
      ],
      "text/plain": [
       "              n = 10                          n = 100  \\\n",
       "O(1)               1                                1   \n",
       "O(log(n))          1                                2   \n",
       "O(n)              10                              100   \n",
       "O(n log (n))      10                              200   \n",
       "O(n^2)           100                            10000   \n",
       "O(2^n)          1024  1267650600228229401496703205376   \n",
       "\n",
       "                                                       n = 1000    n = 1000000  \n",
       "O(1)                                                          1              1  \n",
       "O(log(n))                                                     3              6  \n",
       "O(n)                                                       1000        1000000  \n",
       "O(n log (n))                                               3000          6e+06  \n",
       "O(n^2)                                                  1000000  1000000000000  \n",
       "O(2^n)        1071508607186267320948425049060001810561404811...        TOO BIG  "
      ]
     },
     "execution_count": 58,
     "metadata": {},
     "output_type": "execute_result"
    }
   ],
   "source": [
    "labels = pd.Index(['O(1)', 'O(log(n))', 'O(n)', 'O(n log (n))', 'O(n^2)', 'O(2^n)'])\n",
    "bigO = pd.DataFrame({'n = 10':[1, np.log10(n1), n1, n1*np.log10(n1), n1**2, 2**n1],\n",
    "                     'n = 100':[1, np.log10(n2), n2, n2*np.log10(n2), n2**2, 2**n2],\n",
    "                     'n = 1000':[1, np.log10(n3), n3, n3*np.log10(n3), n3**2, 2**n3],\n",
    "                     'n = 1000000':[1, np.log10(n4), n4, n4*np.log10(n4), n4**2, 'TOO BIG']\n",
    "                    }, dtype='int64', index=labels)\n",
    "bigO"
   ]
  },
  {
   "cell_type": "code",
   "execution_count": 8,
   "metadata": {},
   "outputs": [],
   "source": [
    "def f(i):\n",
    "    \"\"\"Assumes i is an int and i >= 0\"\"\"\n",
    "    answer = 1\n",
    "    while i >= 1:\n",
    "        answer *= i\n",
    "        i -= 1\n",
    "    return answer"
   ]
  },
  {
   "cell_type": "code",
   "execution_count": 9,
   "metadata": {},
   "outputs": [],
   "source": [
    "def squareRootExhaustive(x, epsilon):\n",
    "    \"\"\"Assumes x and epsilon are positive floats & epsilon < 1\n",
    "       Returns a y such that y*y is within epsilon of x\"\"\"\n",
    "    step = epsilon**2\n",
    "    ans = 0.0\n",
    "    count = 0\n",
    "    while abs(ans**2 - x) >= epsilon and ans*ans <= x:\n",
    "        count += 1\n",
    "        ans += step\n",
    "    if ans*ans> x:\n",
    "        raise ValueError\n",
    "    print(count)\n",
    "    print(ans)\n",
    "    return ans"
   ]
  },
  {
   "cell_type": "code",
   "execution_count": 10,
   "metadata": {},
   "outputs": [],
   "source": [
    "def squareRootBi(x, epsilon):\n",
    "    \"\"\"Assumes x and epsilon are positive floats & epsilon < 1\n",
    "       Returns a y such that y*y is within epsilon of x\"\"\"\n",
    "    low = 0.0\n",
    "    high = max(1.0, x)\n",
    "    ans = (high + low) / 2.0\n",
    "    count = 0\n",
    "    while abs(ans**2 - x) >= epsilon:\n",
    "        count += 1\n",
    "        if ans**2 < x:\n",
    "            low = ans\n",
    "        else:\n",
    "            high = ans\n",
    "        ans = (high + low) / 2.0\n",
    "    print(count)\n",
    "    print(ans)\n",
    "    return ans"
   ]
  },
  {
   "cell_type": "code",
   "execution_count": 11,
   "metadata": {},
   "outputs": [
    {
     "name": "stdout",
     "output_type": "stream",
     "text": [
      "22\n",
      "10.000002384185791\n",
      "999999488\n",
      "9.999995005227886\n"
     ]
    },
    {
     "data": {
      "text/plain": [
       "9.999995005227886"
      ]
     },
     "execution_count": 11,
     "metadata": {},
     "output_type": "execute_result"
    }
   ],
   "source": [
    "squareRootBi(100, .0001)\n",
    "squareRootExhaustive(100, .0001)"
   ]
  },
  {
   "cell_type": "markdown",
   "metadata": {},
   "source": [
    "## Asymptotic Notation"
   ]
  },
  {
   "cell_type": "markdown",
   "metadata": {},
   "source": [
    "### Big O\n",
    "\n",
    "`Lists` n is len(L)\n",
    "- index O(1)\n",
    "- store O(1)\n",
    "- length O(1)\n",
    "- append O(1)\n",
    "- == O(n)\n",
    "- remove O(n)\n",
    "- copy O(n)\n",
    "- reverse O(n)\n",
    "- iteration O(n)\n",
    "- in list O(n)\n",
    "\n",
    "`Dictionaries` n is len(d)\n",
    "\n",
    "- **worst case**\n",
    "    - index O(n) - dictionaries are not ordered\n",
    "    - store O(n)\n",
    "    - length O(n)\n",
    "    - delete O(n)\n",
    "    - iteration O(n)\n",
    "\n",
    "- **average case**\n",
    "    - index O(1)\n",
    "    - store O(1)\n",
    "    - delete O(1)\n",
    "    - iteration O(n)"
   ]
  },
  {
   "cell_type": "code",
   "execution_count": 12,
   "metadata": {},
   "outputs": [],
   "source": [
    "def f(x):\n",
    "    \"\"\"Assumes x is an int > 0\"\"\"\n",
    "    ans = 0\n",
    "    # loop that takes constant time\n",
    "    for i in range(1000): # constant\n",
    "        ans += 1\n",
    "    print('Number of additions so far', ans)\n",
    "    \n",
    "    # loop that takes time x\n",
    "    for i in range(x): # linear\n",
    "        ans += 1\n",
    "    print('Number of additions so far', ans)\n",
    "    # nested loops take time x**2\n",
    "    for i in range(x): # polynomial\n",
    "        for j in range(x):\n",
    "            ans += 1\n",
    "            ans += 1\n",
    "    print('Number of additions so far', ans)\n",
    "    return ans"
   ]
  },
  {
   "cell_type": "code",
   "execution_count": 13,
   "metadata": {
    "scrolled": true
   },
   "outputs": [
    {
     "name": "stdout",
     "output_type": "stream",
     "text": [
      "Number of additions so far 1000\n",
      "Number of additions so far 2000\n",
      "Number of additions so far 2002000\n"
     ]
    },
    {
     "data": {
      "text/plain": [
       "2002000"
      ]
     },
     "execution_count": 13,
     "metadata": {},
     "output_type": "execute_result"
    }
   ],
   "source": [
    "f(1000)"
   ]
  },
  {
   "cell_type": "markdown",
   "metadata": {},
   "source": [
    "### Logarithmic Complexity $O(\\log n)$"
   ]
  },
  {
   "cell_type": "code",
   "execution_count": 13,
   "metadata": {},
   "outputs": [],
   "source": [
    "def intToStr(i):\n",
    "    \"\"\"Assumes i is a nonnegative int\n",
    "       Returns a decimal string representation of i\"\"\"\n",
    "    digits = '0123456789'\n",
    "    if i == 0:\n",
    "        return '0'\n",
    "    result = ''\n",
    "    while i > 0:\n",
    "        result = digits[i%10] + result\n",
    "        i = i//10\n",
    "    return result"
   ]
  },
  {
   "cell_type": "code",
   "execution_count": 14,
   "metadata": {},
   "outputs": [
    {
     "data": {
      "text/plain": [
       "'23'"
      ]
     },
     "execution_count": 14,
     "metadata": {},
     "output_type": "execute_result"
    }
   ],
   "source": [
    "intToStr(23)"
   ]
  },
  {
   "cell_type": "code",
   "execution_count": 53,
   "metadata": {},
   "outputs": [],
   "source": [
    "def addDigits(n):\n",
    "    \"\"\"Assumes n is an nonnegative int\n",
    "       Returns the sum of the digits in n\"\"\"\n",
    "    stringRep = intToStr(n)\n",
    "    val = 0\n",
    "    for c in stringRep:\n",
    "        val += int(c)\n",
    "    return val"
   ]
  },
  {
   "cell_type": "code",
   "execution_count": 55,
   "metadata": {},
   "outputs": [
    {
     "data": {
      "text/plain": [
       "10"
      ]
     },
     "execution_count": 55,
     "metadata": {},
     "output_type": "execute_result"
    }
   ],
   "source": [
    "addDigits(280)"
   ]
  },
  {
   "cell_type": "code",
   "execution_count": 47,
   "metadata": {},
   "outputs": [
    {
     "data": {
      "text/plain": [
       "19"
      ]
     },
     "execution_count": 47,
     "metadata": {},
     "output_type": "execute_result"
    }
   ],
   "source": [
    "def addDigits(s):\n",
    "    \"\"\"Assumes s is a str each character of which is a\n",
    "          decimal digit.\n",
    "       Returns an int that is the sum of the digits in s\"\"\"\n",
    "    val = 0\n",
    "    for c in s:\n",
    "        val += int(c)\n",
    "    return val"
   ]
  },
  {
   "cell_type": "markdown",
   "metadata": {},
   "source": [
    "## Linear Complexity $O(n)$"
   ]
  },
  {
   "cell_type": "code",
   "execution_count": 1,
   "metadata": {},
   "outputs": [],
   "source": [
    "def addDigits(s):\n",
    "    \"\"\"Assumes s is a str each character of which is a\n",
    "           decimal digit.\n",
    "       Returns an int that is the sum of the digits in s\"\"\"\n",
    "    val = 0\n",
    "    for c in s:\n",
    "        val += int(c)\n",
    "    return val"
   ]
  },
  {
   "cell_type": "code",
   "execution_count": 2,
   "metadata": {},
   "outputs": [],
   "source": [
    "# O(n)\n",
    "def factorial(x):\n",
    "    \"\"\"Assumes that x is a positive int\n",
    "       Returns x!\"\"\"\n",
    "    if x == 1:\n",
    "        return 1\n",
    "    else:\n",
    "        return x*factorial(x-1)"
   ]
  },
  {
   "cell_type": "markdown",
   "metadata": {},
   "source": [
    "### Polynomial Complexity $O(n^k)$"
   ]
  },
  {
   "cell_type": "code",
   "execution_count": 3,
   "metadata": {},
   "outputs": [],
   "source": [
    "def isSubset(L1, L2):\n",
    "    \"\"\"Assumes L1 and L2 are lists.\n",
    "       Returns True if each element in L1 is also in L2\n",
    "       and False otherwise\"\"\"\n",
    "    for e1 in L1:\n",
    "        matched = False\n",
    "        for e2 in L2:\n",
    "            if e1 == e2:\n",
    "                matched = True\n",
    "                break\n",
    "        if not matched:\n",
    "            return False\n",
    "    return True"
   ]
  },
  {
   "cell_type": "code",
   "execution_count": 4,
   "metadata": {},
   "outputs": [],
   "source": [
    "def intersect(L1, L2): # O(len(L1) * len(L2))\n",
    "    \"\"\"Assumes: L1 and L2 are lists\n",
    "       Returns a list without duplicates that is the intersection of\n",
    "       L1 and L2\"\"\"\n",
    "    # Build a list containing common elements\n",
    "    tmp = []\n",
    "    for e1 in L1:\n",
    "        for e2 in L2:\n",
    "            if e1 == e2:\n",
    "                temp.append(e1)\n",
    "                break\n",
    "    # Build a list without duplicates\n",
    "    result = []\n",
    "    for e in tmp:\n",
    "        if e not in result:\n",
    "            result.append(e)\n",
    "    return result"
   ]
  },
  {
   "cell_type": "markdown",
   "metadata": {},
   "source": [
    "### Exponential Complexity $O(c^n)$\n",
    "- call on recursive and more than once\n",
    "- **Towers of Hanoi**"
   ]
  },
  {
   "cell_type": "code",
   "execution_count": 7,
   "metadata": {},
   "outputs": [],
   "source": [
    "def getBinaryRep(n, numDigits):\n",
    "    \"\"\"Assumes n and numDigits are non-negative ints\n",
    "       Returns a str of length numDigits that is a binary\n",
    "       representation of n\"\"\"\n",
    "    result = ''\n",
    "    while n > 0:\n",
    "        result = str(n%2) + result\n",
    "        n = n//2\n",
    "    if len(result) > numDigits:\n",
    "        raise ValueError('not enough digits')\n",
    "    for i in range(numDigits - len(result)):\n",
    "        result = '0' + result\n",
    "    return result\n",
    "\n",
    "def genPowerset(L):\n",
    "    \"\"\"Assumes L is a list\n",
    "       Returns a list of lists that contains all possible\n",
    "       combinations of the elements of L. e.g., if\n",
    "       L is [1, 2] it will return a list with elements\n",
    "       [], [1], [2], and [1, 2].\"\"\"\n",
    "    powerset = []\n",
    "    for i in range(0, 2**len(L)):\n",
    "        binStr = getBinaryRep(i, len(L))\n",
    "        subset = []\n",
    "        for j in range(len(L)):\n",
    "            if binStr[j] == '1':\n",
    "                subset.append(L[j])\n",
    "        powerset.append(subset)\n",
    "    return powerset"
   ]
  },
  {
   "cell_type": "code",
   "execution_count": 8,
   "metadata": {},
   "outputs": [
    {
     "data": {
      "text/plain": [
       "[[],\n",
       " ['f'],\n",
       " ['e'],\n",
       " ['e', 'f'],\n",
       " ['d'],\n",
       " ['d', 'f'],\n",
       " ['d', 'e'],\n",
       " ['d', 'e', 'f'],\n",
       " ['c'],\n",
       " ['c', 'f'],\n",
       " ['c', 'e'],\n",
       " ['c', 'e', 'f'],\n",
       " ['c', 'd'],\n",
       " ['c', 'd', 'f'],\n",
       " ['c', 'd', 'e'],\n",
       " ['c', 'd', 'e', 'f'],\n",
       " ['b'],\n",
       " ['b', 'f'],\n",
       " ['b', 'e'],\n",
       " ['b', 'e', 'f'],\n",
       " ['b', 'd'],\n",
       " ['b', 'd', 'f'],\n",
       " ['b', 'd', 'e'],\n",
       " ['b', 'd', 'e', 'f'],\n",
       " ['b', 'c'],\n",
       " ['b', 'c', 'f'],\n",
       " ['b', 'c', 'e'],\n",
       " ['b', 'c', 'e', 'f'],\n",
       " ['b', 'c', 'd'],\n",
       " ['b', 'c', 'd', 'f'],\n",
       " ['b', 'c', 'd', 'e'],\n",
       " ['b', 'c', 'd', 'e', 'f'],\n",
       " ['a'],\n",
       " ['a', 'f'],\n",
       " ['a', 'e'],\n",
       " ['a', 'e', 'f'],\n",
       " ['a', 'd'],\n",
       " ['a', 'd', 'f'],\n",
       " ['a', 'd', 'e'],\n",
       " ['a', 'd', 'e', 'f'],\n",
       " ['a', 'c'],\n",
       " ['a', 'c', 'f'],\n",
       " ['a', 'c', 'e'],\n",
       " ['a', 'c', 'e', 'f'],\n",
       " ['a', 'c', 'd'],\n",
       " ['a', 'c', 'd', 'f'],\n",
       " ['a', 'c', 'd', 'e'],\n",
       " ['a', 'c', 'd', 'e', 'f'],\n",
       " ['a', 'b'],\n",
       " ['a', 'b', 'f'],\n",
       " ['a', 'b', 'e'],\n",
       " ['a', 'b', 'e', 'f'],\n",
       " ['a', 'b', 'd'],\n",
       " ['a', 'b', 'd', 'f'],\n",
       " ['a', 'b', 'd', 'e'],\n",
       " ['a', 'b', 'd', 'e', 'f'],\n",
       " ['a', 'b', 'c'],\n",
       " ['a', 'b', 'c', 'f'],\n",
       " ['a', 'b', 'c', 'e'],\n",
       " ['a', 'b', 'c', 'e', 'f'],\n",
       " ['a', 'b', 'c', 'd'],\n",
       " ['a', 'b', 'c', 'd', 'f'],\n",
       " ['a', 'b', 'c', 'd', 'e'],\n",
       " ['a', 'b', 'c', 'd', 'e', 'f']]"
      ]
     },
     "execution_count": 8,
     "metadata": {},
     "output_type": "execute_result"
    }
   ],
   "source": [
    "genPowerset(['a', 'b', 'c', 'd', 'e', 'f'])"
   ]
  },
  {
   "cell_type": "code",
   "execution_count": 1,
   "metadata": {},
   "outputs": [],
   "source": [
    "def genSubsets(L):\n",
    "    if len(L) == 0:\n",
    "        return [[]]\n",
    "    smaller = genSubsets(L[:-1]) # all but the last element\n",
    "    extra = L[-1:]\n",
    "    new = []\n",
    "    for small in smaller:\n",
    "        new.append(small+extra)\n",
    "    return smaller+new"
   ]
  },
  {
   "cell_type": "code",
   "execution_count": 2,
   "metadata": {},
   "outputs": [
    {
     "data": {
      "text/plain": [
       "[[],\n",
       " ['a'],\n",
       " ['b'],\n",
       " ['a', 'b'],\n",
       " ['c'],\n",
       " ['a', 'c'],\n",
       " ['b', 'c'],\n",
       " ['a', 'b', 'c'],\n",
       " ['d'],\n",
       " ['a', 'd'],\n",
       " ['b', 'd'],\n",
       " ['a', 'b', 'd'],\n",
       " ['c', 'd'],\n",
       " ['a', 'c', 'd'],\n",
       " ['b', 'c', 'd'],\n",
       " ['a', 'b', 'c', 'd'],\n",
       " ['e'],\n",
       " ['a', 'e'],\n",
       " ['b', 'e'],\n",
       " ['a', 'b', 'e'],\n",
       " ['c', 'e'],\n",
       " ['a', 'c', 'e'],\n",
       " ['b', 'c', 'e'],\n",
       " ['a', 'b', 'c', 'e'],\n",
       " ['d', 'e'],\n",
       " ['a', 'd', 'e'],\n",
       " ['b', 'd', 'e'],\n",
       " ['a', 'b', 'd', 'e'],\n",
       " ['c', 'd', 'e'],\n",
       " ['a', 'c', 'd', 'e'],\n",
       " ['b', 'c', 'd', 'e'],\n",
       " ['a', 'b', 'c', 'd', 'e'],\n",
       " ['f'],\n",
       " ['a', 'f'],\n",
       " ['b', 'f'],\n",
       " ['a', 'b', 'f'],\n",
       " ['c', 'f'],\n",
       " ['a', 'c', 'f'],\n",
       " ['b', 'c', 'f'],\n",
       " ['a', 'b', 'c', 'f'],\n",
       " ['d', 'f'],\n",
       " ['a', 'd', 'f'],\n",
       " ['b', 'd', 'f'],\n",
       " ['a', 'b', 'd', 'f'],\n",
       " ['c', 'd', 'f'],\n",
       " ['a', 'c', 'd', 'f'],\n",
       " ['b', 'c', 'd', 'f'],\n",
       " ['a', 'b', 'c', 'd', 'f'],\n",
       " ['e', 'f'],\n",
       " ['a', 'e', 'f'],\n",
       " ['b', 'e', 'f'],\n",
       " ['a', 'b', 'e', 'f'],\n",
       " ['c', 'e', 'f'],\n",
       " ['a', 'c', 'e', 'f'],\n",
       " ['b', 'c', 'e', 'f'],\n",
       " ['a', 'b', 'c', 'e', 'f'],\n",
       " ['d', 'e', 'f'],\n",
       " ['a', 'd', 'e', 'f'],\n",
       " ['b', 'd', 'e', 'f'],\n",
       " ['a', 'b', 'd', 'e', 'f'],\n",
       " ['c', 'd', 'e', 'f'],\n",
       " ['a', 'c', 'd', 'e', 'f'],\n",
       " ['b', 'c', 'd', 'e', 'f'],\n",
       " ['a', 'b', 'c', 'd', 'e', 'f']]"
      ]
     },
     "execution_count": 2,
     "metadata": {},
     "output_type": "execute_result"
    }
   ],
   "source": [
    "genSubsets(['a', 'b', 'c', 'd', 'e', 'f'])"
   ]
  },
  {
   "cell_type": "code",
   "execution_count": 4,
   "metadata": {},
   "outputs": [],
   "source": [
    "# O(log(n))\n",
    "def h(n):\n",
    "    \"\"\"Assumes n an int >= 0\"\"\"\n",
    "    answer = 0\n",
    "    s = str(n)\n",
    "    for c in s: # linear O(len(s)) - dominant\n",
    "        answer += int(c)\n",
    "    return answer"
   ]
  },
  {
   "cell_type": "code",
   "execution_count": null,
   "metadata": {},
   "outputs": [],
   "source": [
    "# O(n)\n",
    "def fib_iter(n):\n",
    "    # O(1)\n",
    "    if n == 0:\n",
    "        return 0\n",
    "    elif n == 1:\n",
    "        return 1\n",
    "    else:\n",
    "        fib_i = 0\n",
    "        fib_ii = 1\n",
    "        # O(n)\n",
    "        for i in range(n-1): # linear O(n) dominant\n",
    "            tmp = fib_i\n",
    "            fib_i = fib_ii\n",
    "            fib_ii = tmp + fib_ii\n",
    "        return fib_ii"
   ]
  },
  {
   "cell_type": "code",
   "execution_count": 5,
   "metadata": {},
   "outputs": [],
   "source": [
    "# O(2^n)\n",
    "def fib_recur(n):\n",
    "    \"\"\"Assumes n an int >= 0\"\"\"\n",
    "    if n == 0:\n",
    "        return 0\n",
    "    elif n == 1:\n",
    "        return 1\n",
    "    else:\n",
    "        return fib_recur(n-1) + fib_recur(n-2) # exponential - dominant 2^0 + 2^1 + 2^2 + ... + 2^n"
   ]
  },
  {
   "cell_type": "code",
   "execution_count": null,
   "metadata": {},
   "outputs": [],
   "source": [
    "# O(n) -> O(len(L))\n",
    "def sum_list(L):\n",
    "    total = 0\n",
    "    for e in L: # O(len(L))\n",
    "        total = total + e\n",
    "    return total"
   ]
  },
  {
   "cell_type": "code",
   "execution_count": null,
   "metadata": {},
   "outputs": [],
   "source": []
  },
  {
   "cell_type": "code",
   "execution_count": 8,
   "metadata": {},
   "outputs": [
    {
     "data": {
      "text/plain": [
       "100000000000000000000000000000000000000000000000000000000000000000000000000000000000000000000000000000000000000000000000000000000000000000000000000000000000000000000000000000000000000000000000000000000"
      ]
     },
     "execution_count": 8,
     "metadata": {},
     "output_type": "execute_result"
    }
   ],
   "source": [
    "100**100"
   ]
  },
  {
   "cell_type": "code",
   "execution_count": 9,
   "metadata": {},
   "outputs": [
    {
     "data": {
      "text/plain": [
       "19950631168807583848837421626835850838234968318861924548520089498529438830221946631919961684036194597899331129423209124271556491349413781117593785932096323957855730046793794526765246551266059895520550086918193311542508608460618104685509074866089624888090489894838009253941633257850621568309473902556912388065225096643874441046759871626985453222868538161694315775629640762836880760732228535091641476183956381458969463899410840960536267821064621427333394036525565649530603142680234969400335934316651459297773279665775606172582031407994198179607378245683762280037302885487251900834464581454650557929601414833921615734588139257095379769119277800826957735674444123062018757836325502728323789270710373802866393031428133241401624195671690574061419654342324638801248856147305207431992259611796250130992860241708340807605932320161268492288496255841312844061536738951487114256315111089745514203313820202931640957596464756010405845841566072044962867016515061920631004186422275908670900574606417856951911456055068251250406007519842261898059237118054444788072906395242548339221982707404473162376760846613033778706039803413197133493654622700563169937455508241780972810983291314403571877524768509857276937926433221599399876886660808368837838027643282775172273657572744784112294389733810861607423253291974813120197604178281965697475898164531258434135959862784130128185406283476649088690521047580882615823961985770122407044330583075869039319604603404973156583208672105913300903752823415539745394397715257455290510212310947321610753474825740775273986348298498340756937955646638621874569499279016572103701364433135817214311791398222983845847334440270964182851005072927748364550578634501100852987812389473928699540834346158807043959118985815145779177143619698728131459483783202081474982171858011389071228250905826817436220577475921417653715687725614904582904992461028630081535583308130101987675856234343538955409175623400844887526162643568648833519463720377293240094456246923254350400678027273837755376406726898636241037491410966718557050759098100246789880178271925953381282421954028302759408448955014676668389697996886241636313376393903373455801407636741877711055384225739499110186468219696581651485130494222369947714763069155468217682876200362777257723781365331611196811280792669481887201298643660768551639860534602297871557517947385246369446923087894265948217008051120322365496288169035739121368338393591756418733850510970271613915439590991598154654417336311656936031122249937969999226781732358023111862644575299135758175008199839236284615249881088960232244362173771618086357015468484058622329792853875623486556440536962622018963571028812361567512543338303270029097668650568557157505516727518899194129711337690149916181315171544007728650573189557450920330185304847113818315407324053319038462084036421763703911550639789000742853672196280903477974533320468368795868580237952218629120080742819551317948157624448298518461509704888027274721574688131594750409732115080498190455803416826949787141316063210686391511681774304792596709376"
      ]
     },
     "execution_count": 9,
     "metadata": {},
     "output_type": "execute_result"
    }
   ],
   "source": [
    "2**(100**2)"
   ]
  },
  {
   "cell_type": "code",
   "execution_count": null,
   "metadata": {},
   "outputs": [],
   "source": []
  }
 ],
 "metadata": {
  "kernelspec": {
   "display_name": "Python 3",
   "language": "python",
   "name": "python3"
  },
  "language_info": {
   "codemirror_mode": {
    "name": "ipython",
    "version": 3
   },
   "file_extension": ".py",
   "mimetype": "text/x-python",
   "name": "python",
   "nbconvert_exporter": "python",
   "pygments_lexer": "ipython3",
   "version": "3.7.3"
  }
 },
 "nbformat": 4,
 "nbformat_minor": 2
}

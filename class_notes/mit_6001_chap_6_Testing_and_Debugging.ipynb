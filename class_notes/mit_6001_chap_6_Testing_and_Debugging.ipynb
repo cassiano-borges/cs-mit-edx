{
 "cells": [
  {
   "cell_type": "markdown",
   "metadata": {},
   "source": [
    "# Chapter 6\n",
    "***\n",
    "\n",
    "## Testing and Debugging"
   ]
  },
  {
   "cell_type": "markdown",
   "metadata": {},
   "source": [
    "**Defensive Programming**\n",
    " - write specifications for functions (docstrings) - document assumptions\n",
    " - Modularize programs\n",
    " - Check conditions on inputs/outputs (assertions)\n",
    " \n",
    "**Testing / Validation**\n",
    " - Compare input/output pairs to specifications\n",
    " - 'it's not working' - find out that there is a bug\n",
    " - 'How can I break my program?'\n",
    "\n",
    "**Debugging**\n",
    " - Study the events leading up an error\n",
    " - 'Why is it not working?' - where is the bug\n",
    " - 'How can I fix my program?'\n"
   ]
  },
  {
   "cell_type": "markdown",
   "metadata": {},
   "source": [
    "**Scientific method**\n",
    "1. Study avaiable data\n",
    "    1. Test results\n",
    "    2. Programs test\n",
    "2. Form Hypothesis\n",
    "3. Do repeatable experiments\n",
    "    1. to refute or confirm the hypothesis\n",
    "4. Pick simples input to test with\n",
    "    1. Keep a record of the experiments"
   ]
  },
  {
   "cell_type": "markdown",
   "metadata": {},
   "source": [
    "**Process**\n",
    "1. Write a functions\n",
    "    1. test and debug (Unit test)\n",
    "2. Write another function\n",
    "    1. test and degbuf (Unit Test)\n",
    "3. Test and debug (Integration Test)"
   ]
  },
  {
   "cell_type": "markdown",
   "metadata": {},
   "source": [
    "***\n",
    "### Black-box testing\n",
    "- testing through specifications, without looking at the code\n",
    "- different natural spaces partitions\n",
    "- consider boundary condition (empty lists, singleton lists, large and small numbers)\n",
    "- approximation, bisection\n",
    "- **typical cases**\n",
    "- **extreme values**"
   ]
  },
  {
   "cell_type": "code",
   "execution_count": 2,
   "metadata": {},
   "outputs": [],
   "source": [
    "def sqrt(x, epsilon):\n",
    "    \"\"\"Assumes x, epsilon floats\n",
    "               x >= 0\n",
    "               epsilon > 0\n",
    "       Returns result such that\n",
    "               x-epsilon <= result*result <= x+epsilon\"\"\""
   ]
  },
  {
   "cell_type": "markdown",
   "metadata": {},
   "source": [
    "***\n",
    "### Glass-box testing\n",
    "- use code directly\n",
    "- *path complete* to run through every potential path\n",
    "- **attention** to:\n",
    "    - branches - exercise all parts and conditions\n",
    "    - for loops\n",
    "        - loop not entered\n",
    "        - body of loop executed exactly once\n",
    "        - body of loop executed more than once\n",
    "    - while loops\n",
    "        - same as for loops\n",
    "\n",
    "> use _print_ statement<br>\n",
    "> bisection search"
   ]
  },
  {
   "cell_type": "code",
   "execution_count": null,
   "metadata": {},
   "outputs": [],
   "source": [
    "def isPal(x):\n",
    "    assert type(x) == list\n",
    "    temp = x            # !!!\n",
    "    # temp = x[:]       # correction after TEST 2\n",
    "    temp.reverse()\n",
    "    # TEST 2:\n",
    "    print(temp, x)      ## print statement to see temp and x\n",
    "                        ## temp was supposed to be the reverse of x\n",
    "    if temp == x:\n",
    "        return True\n",
    "    else:\n",
    "        return False\n",
    "\n",
    "def silly(n):\n",
    "    # result = []         # correction after TEST 1\n",
    "    for i in range(n):\n",
    "        result = []       # !!!\n",
    "        elem = input('Enter an element: ')\n",
    "        result.append(elem)\n",
    "        # TEST 1:\n",
    "        print(result)     ## use print statement to test the for loop\n",
    "    if isPal(result):\n",
    "        print('Yes')\n",
    "    else:\n",
    "        print('No')"
   ]
  },
  {
   "cell_type": "markdown",
   "metadata": {},
   "source": [
    "### Keywords\n",
    "**Overt** - evident bug\n",
    "\n",
    "**Covert**\n",
    "\n",
    "**Persistent**\n",
    "\n",
    "**Intermittent**\n",
    "\n",
    "**Defensive Programming**"
   ]
  }
 ],
 "metadata": {
  "kernelspec": {
   "display_name": "Python 3",
   "language": "python",
   "name": "python3"
  },
  "language_info": {
   "codemirror_mode": {
    "name": "ipython",
    "version": 3
   },
   "file_extension": ".py",
   "mimetype": "text/x-python",
   "name": "python",
   "nbconvert_exporter": "python",
   "pygments_lexer": "ipython3",
   "version": "3.7.3"
  }
 },
 "nbformat": 4,
 "nbformat_minor": 2
}
